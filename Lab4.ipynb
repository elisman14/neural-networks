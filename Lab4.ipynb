{
 "cells": [
  {
   "cell_type": "markdown",
   "id": "acb73bbb",
   "metadata": {},
   "source": [
    "# БФИ2001 Фаттахов Тагир"
   ]
  },
  {
   "cell_type": "markdown",
   "id": "7e67c709",
   "metadata": {},
   "source": [
    "## Лабораторная работа №4 (Распознавание рукописных символов)"
   ]
  },
  {
   "cell_type": "code",
   "execution_count": 1,
   "id": "4abf04e5",
   "metadata": {},
   "outputs": [],
   "source": [
    "import tensorflow as tf\n",
    "import matplotlib.pyplot as plt\n",
    "from keras.utils import to_categorical\n",
    "from tensorflow.keras.layers import Dense, Activation, Flatten\n",
    "from tensorflow.keras.models import Sequential\n",
    "from matplotlib import image\n",
    "import numpy as np\n",
    "from PIL import Image"
   ]
  },
  {
   "cell_type": "markdown",
   "id": "68e49dc5",
   "metadata": {},
   "source": [
    "Загрузка датасета MNIST"
   ]
  },
  {
   "cell_type": "code",
   "execution_count": 2,
   "id": "20dc776e",
   "metadata": {},
   "outputs": [
    {
     "data": {
      "image/png": "[encoded data removed]",
      "text/plain": [
       "<Figure size 432x288 with 1 Axes>"
      ]
     },
     "metadata": {
      "needs_background": "light"
     },
     "output_type": "display_data"
    },
    {
     "name": "stdout",
     "output_type": "stream",
     "text": [
      "5\n"
     ]
    }
   ],
   "source": [
    "mnist = tf.keras.datasets.mnist\n",
    "(train_images, train_labels),(test_images, test_labels) = mnist.load_data()\n",
    "plt.imshow(train_images[0],cmap=plt.cm.binary)\n",
    "plt.show()\n",
    "print(train_labels[0])"
   ]
  },
  {
   "cell_type": "markdown",
   "id": "77f11af1",
   "metadata": {},
   "source": [
    "Преобразование обучающих данных в диапозон [0,1]"
   ]
  },
  {
   "cell_type": "code",
   "execution_count": 3,
   "id": "808bd38b",
   "metadata": {},
   "outputs": [],
   "source": [
    "train_images = train_images / 255.0\n",
    "test_images = test_images / 255.0"
   ]
  },
  {
   "cell_type": "markdown",
   "id": "c76e724c",
   "metadata": {},
   "source": [
    "Преобразование проверочных значений в массив"
   ]
  },
  {
   "cell_type": "code",
   "execution_count": 4,
   "id": "f80fc52b",
   "metadata": {},
   "outputs": [],
   "source": [
    "train_labels = to_categorical(train_labels)\n",
    "test_labels = to_categorical(test_labels)"
   ]
  },
  {
   "cell_type": "markdown",
   "id": "a8b1c631",
   "metadata": {},
   "source": [
    "Задаём архитектуру ИНС с оптимизатором Adam с параметрами по умочланию"
   ]
  },
  {
   "cell_type": "code",
   "execution_count": 5,
   "id": "8d4bbda8",
   "metadata": {},
   "outputs": [],
   "source": [
    "model = Sequential()\n",
    "model.add(Flatten())\n",
    "model.add(Dense(256, activation='relu'))\n",
    "model.add(Dense(10, activation='softmax'))\n",
    "model.compile(optimizer='adam',loss='categorical_crossentropy', metrics=['accuracy'])"
   ]
  },
  {
   "cell_type": "code",
   "execution_count": 6,
   "id": "418ae01e",
   "metadata": {},
   "outputs": [
    {
     "name": "stdout",
     "output_type": "stream",
     "text": [
      "Epoch 1/5\n",
      "1000/1000 [==============================] - 4s 3ms/step - loss: 0.2543 - accuracy: 0.9275\n",
      "Epoch 2/5\n",
      "1000/1000 [==============================] - 3s 3ms/step - loss: 0.1060 - accuracy: 0.9685\n",
      "Epoch 3/5\n",
      "1000/1000 [==============================] - 3s 3ms/step - loss: 0.0706 - accuracy: 0.9785\n",
      "Epoch 4/5\n",
      "1000/1000 [==============================] - 2s 2ms/step - loss: 0.0502 - accuracy: 0.9845\n",
      "Epoch 5/5\n",
      "1000/1000 [==============================] - 3s 3ms/step - loss: 0.0383 - accuracy: 0.9882\n"
     ]
    },
    {
     "data": {
      "text/plain": [
       "<keras.callbacks.History at 0x1b6c8465ae0>"
      ]
     },
     "execution_count": 6,
     "metadata": {},
     "output_type": "execute_result"
    }
   ],
   "source": [
    "model.fit(train_images, train_labels, epochs=5, batch_size=60)"
   ]
  },
  {
   "cell_type": "markdown",
   "id": "8d9d77b7",
   "metadata": {},
   "source": [
    "Значение потерь и метрики для модели в тестовом режиме"
   ]
  },
  {
   "cell_type": "code",
   "execution_count": 7,
   "id": "b709cec2",
   "metadata": {},
   "outputs": [
    {
     "name": "stdout",
     "output_type": "stream",
     "text": [
      "313/313 [==============================] - 1s 1ms/step - loss: 0.0649 - accuracy: 0.9800\n",
      "test_acc: 0.9800000190734863\n"
     ]
    }
   ],
   "source": [
    "test_loss, test_acc = model.evaluate(test_images, test_labels)\n",
    "print('test_acc:', test_acc)"
   ]
  },
  {
   "cell_type": "markdown",
   "id": "8053b441",
   "metadata": {},
   "source": [
    "Задаём архитектуру ИНС с оптимизатором Adam с скоростью обучения = 0,01"
   ]
  },
  {
   "cell_type": "code",
   "execution_count": 8,
   "id": "b0c75baa",
   "metadata": {},
   "outputs": [
    {
     "name": "stdout",
     "output_type": "stream",
     "text": [
      "Epoch 1/5\n",
      "1000/1000 [==============================] - 3s 3ms/step - loss: 0.2196 - accuracy: 0.9347\n",
      "Epoch 2/5\n",
      "1000/1000 [==============================] - 2s 2ms/step - loss: 0.1351 - accuracy: 0.9612\n",
      "Epoch 3/5\n",
      "1000/1000 [==============================] - 3s 3ms/step - loss: 0.1171 - accuracy: 0.9675\n",
      "Epoch 4/5\n",
      "1000/1000 [==============================] - 3s 3ms/step - loss: 0.1037 - accuracy: 0.9720\n",
      "Epoch 5/5\n",
      "1000/1000 [==============================] - 2s 2ms/step - loss: 0.0909 - accuracy: 0.9749\n"
     ]
    },
    {
     "data": {
      "text/plain": [
       "<keras.callbacks.History at 0x1b6ca731420>"
      ]
     },
     "execution_count": 8,
     "metadata": {},
     "output_type": "execute_result"
    }
   ],
   "source": [
    "myAdam1 = tf.keras.optimizers.Adam(learning_rate= 0.01)\n",
    "model1 = Sequential()\n",
    "model1.add(Flatten())\n",
    "model1.add(Dense(256, activation='relu'))\n",
    "model1.add(Dense(10, activation='softmax'))\n",
    "model1.compile(optimizer = myAdam1,loss='categorical_crossentropy', metrics=['accuracy'])\n",
    "model1.fit(train_images, train_labels, epochs=5, batch_size=60)"
   ]
  },
  {
   "cell_type": "code",
   "execution_count": 9,
   "id": "8398ddea",
   "metadata": {},
   "outputs": [
    {
     "name": "stdout",
     "output_type": "stream",
     "text": [
      "313/313 [==============================] - 1s 1ms/step - loss: 0.1772 - accuracy: 0.9614\n",
      "test_acc: 0.9613999724388123\n"
     ]
    }
   ],
   "source": [
    "test_loss, test_acc = model1.evaluate(test_images, test_labels)\n",
    "print('test_acc:', test_acc)"
   ]
  },
  {
   "cell_type": "markdown",
   "id": "62068e48",
   "metadata": {},
   "source": [
    "Задаём архитектуру ИНС с оптимизатором Adam с скоростью обучения = 0,1"
   ]
  },
  {
   "cell_type": "code",
   "execution_count": 10,
   "id": "92c551f3",
   "metadata": {},
   "outputs": [
    {
     "name": "stdout",
     "output_type": "stream",
     "text": [
      "Epoch 1/5\n",
      "1000/1000 [==============================] - 3s 3ms/step - loss: 1.0245 - accuracy: 0.7941\n",
      "Epoch 2/5\n",
      "1000/1000 [==============================] - 3s 3ms/step - loss: 0.9814 - accuracy: 0.7528\n",
      "Epoch 3/5\n",
      "1000/1000 [==============================] - 4s 4ms/step - loss: 0.9391 - accuracy: 0.7451\n",
      "Epoch 4/5\n",
      "1000/1000 [==============================] - 3s 3ms/step - loss: 0.9442 - accuracy: 0.7481\n",
      "Epoch 5/5\n",
      "1000/1000 [==============================] - 3s 3ms/step - loss: 0.9424 - accuracy: 0.7597\n"
     ]
    },
    {
     "data": {
      "text/plain": [
       "<keras.callbacks.History at 0x1b6ca887700>"
      ]
     },
     "execution_count": 10,
     "metadata": {},
     "output_type": "execute_result"
    }
   ],
   "source": [
    "myAdam2 = tf.keras.optimizers.Adam(learning_rate= 0.1)\n",
    "model2 = Sequential()\n",
    "model2.add(Flatten())\n",
    "model2.add(Dense(256, activation='relu'))\n",
    "model2.add(Dense(10, activation='softmax'))\n",
    "model2.compile(optimizer = myAdam2,loss='categorical_crossentropy', metrics=['accuracy'])\n",
    "model2.fit(train_images, train_labels, epochs=5, batch_size=60)"
   ]
  },
  {
   "cell_type": "code",
   "execution_count": 11,
   "id": "582f725d",
   "metadata": {},
   "outputs": [
    {
     "name": "stdout",
     "output_type": "stream",
     "text": [
      "313/313 [==============================] - 1s 1ms/step - loss: 0.9285 - accuracy: 0.7510\n",
      "test_acc: 0.7509999871253967\n"
     ]
    }
   ],
   "source": [
    "test_loss, test_acc = model2.evaluate(test_images, test_labels)\n",
    "print('test_acc:', test_acc)"
   ]
  },
  {
   "cell_type": "markdown",
   "id": "a2023150",
   "metadata": {},
   "source": [
    "Задаём архитектуру ИНС с оптимизатором SGD c параметрами по умолчанию"
   ]
  },
  {
   "cell_type": "code",
   "execution_count": 12,
   "id": "78661202",
   "metadata": {},
   "outputs": [
    {
     "name": "stdout",
     "output_type": "stream",
     "text": [
      "Epoch 1/5\n",
      "1000/1000 [==============================] - 2s 2ms/step - loss: 0.8324 - accuracy: 0.7988\n",
      "Epoch 2/5\n",
      "1000/1000 [==============================] - 2s 2ms/step - loss: 0.3995 - accuracy: 0.8924\n",
      "Epoch 3/5\n",
      "1000/1000 [==============================] - 2s 2ms/step - loss: 0.3367 - accuracy: 0.9068\n",
      "Epoch 4/5\n",
      "1000/1000 [==============================] - 2s 2ms/step - loss: 0.3038 - accuracy: 0.9153\n",
      "Epoch 5/5\n",
      "1000/1000 [==============================] - 2s 2ms/step - loss: 0.2806 - accuracy: 0.9212\n"
     ]
    },
    {
     "data": {
      "text/plain": [
       "<keras.callbacks.History at 0x1b6caa06470>"
      ]
     },
     "execution_count": 12,
     "metadata": {},
     "output_type": "execute_result"
    }
   ],
   "source": [
    "model3 = Sequential()\n",
    "model3.add(Flatten())\n",
    "model3.add(Dense(256, activation='relu'))\n",
    "model3.add(Dense(10, activation='softmax'))\n",
    "model3.compile(optimizer = 'sgd',loss='categorical_crossentropy', metrics=['accuracy'])\n",
    "model3.fit(train_images, train_labels, epochs=5, batch_size=60)"
   ]
  },
  {
   "cell_type": "code",
   "execution_count": 13,
   "id": "5d508d1f",
   "metadata": {},
   "outputs": [
    {
     "name": "stdout",
     "output_type": "stream",
     "text": [
      "313/313 [==============================] - 0s 1ms/step - loss: 0.2614 - accuracy: 0.9268\n",
      "test_acc: 0.926800012588501\n"
     ]
    }
   ],
   "source": [
    "test_loss, test_acc = model3.evaluate(test_images, test_labels)\n",
    "print('test_acc:', test_acc)"
   ]
  },
  {
   "cell_type": "markdown",
   "id": "fb5d97c8",
   "metadata": {},
   "source": [
    "Задаём архитектуру ИНС с оптимизатором SGD с скоростью обучения = 0,01 и использованием моментов Нестерова"
   ]
  },
  {
   "cell_type": "code",
   "execution_count": 14,
   "id": "4ef3d587",
   "metadata": {},
   "outputs": [
    {
     "name": "stdout",
     "output_type": "stream",
     "text": [
      "Epoch 1/5\n",
      "1000/1000 [==============================] - 3s 2ms/step - loss: 0.8303 - accuracy: 0.8041\n",
      "Epoch 2/5\n",
      "1000/1000 [==============================] - 2s 2ms/step - loss: 0.3977 - accuracy: 0.8931\n",
      "Epoch 3/5\n",
      "1000/1000 [==============================] - 2s 2ms/step - loss: 0.3362 - accuracy: 0.9061\n",
      "Epoch 4/5\n",
      "1000/1000 [==============================] - 2s 2ms/step - loss: 0.3034 - accuracy: 0.9151\n",
      "Epoch 5/5\n",
      "1000/1000 [==============================] - 2s 2ms/step - loss: 0.2803 - accuracy: 0.9209\n"
     ]
    },
    {
     "data": {
      "text/plain": [
       "<keras.callbacks.History at 0x1b68e1a67d0>"
      ]
     },
     "execution_count": 14,
     "metadata": {},
     "output_type": "execute_result"
    }
   ],
   "source": [
    "mySgd = tf.keras.optimizers.SGD(learning_rate=0.01, momentum=0.0, nesterov=True)\n",
    "model4 = Sequential()\n",
    "model4.add(Flatten())\n",
    "model4.add(Dense(256, activation='relu'))\n",
    "model4.add(Dense(10, activation='softmax'))\n",
    "model4.compile(optimizer = mySgd,loss='categorical_crossentropy', metrics=['accuracy'])\n",
    "model4.fit(train_images, train_labels, epochs=5, batch_size=60)"
   ]
  },
  {
   "cell_type": "code",
   "execution_count": 15,
   "id": "7db1c578",
   "metadata": {},
   "outputs": [
    {
     "name": "stdout",
     "output_type": "stream",
     "text": [
      "313/313 [==============================] - 0s 1ms/step - loss: 0.2598 - accuracy: 0.9260\n",
      "test_acc: 0.9259999990463257\n"
     ]
    }
   ],
   "source": [
    "test_loss, test_acc = model4.evaluate(test_images, test_labels)\n",
    "print('test_acc:', test_acc)"
   ]
  },
  {
   "cell_type": "markdown",
   "id": "e043e095",
   "metadata": {},
   "source": [
    "Задаём архитектуру ИНС с оптимизатором SGD с скоростью обучения = 0,1 и использованем моментом Нестерова"
   ]
  },
  {
   "cell_type": "code",
   "execution_count": 16,
   "id": "49f5e929",
   "metadata": {},
   "outputs": [
    {
     "name": "stdout",
     "output_type": "stream",
     "text": [
      "Epoch 1/5\n",
      "1000/1000 [==============================] - 2s 2ms/step - loss: 0.3534 - accuracy: 0.9017\n",
      "Epoch 2/5\n",
      "1000/1000 [==============================] - 2s 2ms/step - loss: 0.1853 - accuracy: 0.9479\n",
      "Epoch 3/5\n",
      "1000/1000 [==============================] - 2s 2ms/step - loss: 0.1355 - accuracy: 0.9618\n",
      "Epoch 4/5\n",
      "1000/1000 [==============================] - 2s 2ms/step - loss: 0.1078 - accuracy: 0.9697\n",
      "Epoch 5/5\n",
      "1000/1000 [==============================] - 2s 2ms/step - loss: 0.0890 - accuracy: 0.9750\n"
     ]
    },
    {
     "data": {
      "text/plain": [
       "<keras.callbacks.History at 0x1b68f248d30>"
      ]
     },
     "execution_count": 16,
     "metadata": {},
     "output_type": "execute_result"
    }
   ],
   "source": [
    "mySgd1 = tf.keras.optimizers.SGD(learning_rate=0.1, momentum=0.0, nesterov=True)\n",
    "model5 = Sequential()\n",
    "model5.add(Flatten())\n",
    "model5.add(Dense(256, activation='relu'))\n",
    "model5.add(Dense(10, activation='softmax'))\n",
    "model5.compile(optimizer = mySgd1,loss='categorical_crossentropy', metrics=['accuracy'])\n",
    "model5.fit(train_images, train_labels, epochs=5, batch_size=60)"
   ]
  },
  {
   "cell_type": "code",
   "execution_count": 17,
   "id": "04d7df89",
   "metadata": {},
   "outputs": [
    {
     "name": "stdout",
     "output_type": "stream",
     "text": [
      "313/313 [==============================] - 1s 1ms/step - loss: 0.0968 - accuracy: 0.9717\n",
      "test_acc: 0.9717000126838684\n"
     ]
    }
   ],
   "source": [
    "test_loss, test_acc = model5.evaluate(test_images, test_labels)\n",
    "print('test_acc:', test_acc)"
   ]
  },
  {
   "cell_type": "markdown",
   "id": "a839a3e0",
   "metadata": {},
   "source": [
    "Задаём архитектуру ИНС с оптимизатором RMSprop с параметрами по умолчанию"
   ]
  },
  {
   "cell_type": "code",
   "execution_count": 18,
   "id": "4ed8366f",
   "metadata": {},
   "outputs": [
    {
     "name": "stdout",
     "output_type": "stream",
     "text": [
      "Epoch 1/5\n",
      "1000/1000 [==============================] - 3s 3ms/step - loss: 0.2492 - accuracy: 0.9280\n",
      "Epoch 2/5\n",
      "1000/1000 [==============================] - 3s 3ms/step - loss: 0.1104 - accuracy: 0.9667\n",
      "Epoch 3/5\n",
      "1000/1000 [==============================] - 2s 2ms/step - loss: 0.0763 - accuracy: 0.9767\n",
      "Epoch 4/5\n",
      "1000/1000 [==============================] - 2s 2ms/step - loss: 0.0578 - accuracy: 0.9824\n",
      "Epoch 5/5\n",
      "1000/1000 [==============================] - 3s 3ms/step - loss: 0.0441 - accuracy: 0.9870\n"
     ]
    },
    {
     "data": {
      "text/plain": [
       "<keras.callbacks.History at 0x1b68e17bac0>"
      ]
     },
     "execution_count": 18,
     "metadata": {},
     "output_type": "execute_result"
    }
   ],
   "source": [
    "model6 = Sequential()\n",
    "model6.add(Flatten())\n",
    "model6.add(Dense(256, activation='relu'))\n",
    "model6.add(Dense(10, activation='softmax'))\n",
    "model6.compile(optimizer = 'rmsprop',loss='categorical_crossentropy', metrics=['accuracy'])\n",
    "model6.fit(train_images, train_labels, epochs=5, batch_size=60)"
   ]
  },
  {
   "cell_type": "code",
   "execution_count": 19,
   "id": "2c8e2034",
   "metadata": {},
   "outputs": [
    {
     "name": "stdout",
     "output_type": "stream",
     "text": [
      "313/313 [==============================] - 0s 1ms/step - loss: 0.0690 - accuracy: 0.9797\n",
      "test_acc: 0.9797000288963318\n"
     ]
    }
   ],
   "source": [
    "test_loss, test_acc = model6.evaluate(test_images, test_labels)\n",
    "print('test_acc:', test_acc)"
   ]
  },
  {
   "cell_type": "markdown",
   "id": "c54e9055",
   "metadata": {},
   "source": [
    "Задаём архитектуру ИНС с оптимизатором RMSprop с скоростью обучения = 0.1"
   ]
  },
  {
   "cell_type": "code",
   "execution_count": 20,
   "id": "460ea8f8",
   "metadata": {},
   "outputs": [
    {
     "name": "stdout",
     "output_type": "stream",
     "text": [
      "Epoch 1/5\n",
      "1000/1000 [==============================] - 3s 3ms/step - loss: 1.9732 - accuracy: 0.8223\n",
      "Epoch 2/5\n",
      "1000/1000 [==============================] - 3s 3ms/step - loss: 0.7629 - accuracy: 0.8655\n",
      "Epoch 3/5\n",
      "1000/1000 [==============================] - 3s 3ms/step - loss: 0.7367 - accuracy: 0.8752\n",
      "Epoch 4/5\n",
      "1000/1000 [==============================] - 2s 2ms/step - loss: 0.7093 - accuracy: 0.8806\n",
      "Epoch 5/5\n",
      "1000/1000 [==============================] - 2s 2ms/step - loss: 0.6791 - accuracy: 0.8837\n"
     ]
    },
    {
     "data": {
      "text/plain": [
       "<keras.callbacks.History at 0x1b68f249fc0>"
      ]
     },
     "execution_count": 20,
     "metadata": {},
     "output_type": "execute_result"
    }
   ],
   "source": [
    "myRMSprop = tf.keras.optimizers.RMSprop(learning_rate=0.1)\n",
    "model7 = Sequential()\n",
    "model7.add(Flatten())\n",
    "model7.add(Dense(256, activation='relu'))\n",
    "model7.add(Dense(10, activation='softmax'))\n",
    "model7.compile(optimizer = myRMSprop, loss='categorical_crossentropy', metrics=['accuracy'])\n",
    "model7.fit(train_images, train_labels, epochs=5, batch_size=60)"
   ]
  },
  {
   "cell_type": "code",
   "execution_count": 21,
   "id": "fe4083d1",
   "metadata": {},
   "outputs": [
    {
     "name": "stdout",
     "output_type": "stream",
     "text": [
      "313/313 [==============================] - 1s 2ms/step - loss: 0.7339 - accuracy: 0.8859\n",
      "test_acc: 0.8859000205993652\n"
     ]
    }
   ],
   "source": [
    "test_loss, test_acc = model7.evaluate(test_images, test_labels)\n",
    "print('test_acc:', test_acc)"
   ]
  },
  {
   "cell_type": "markdown",
   "id": "d44bcccf",
   "metadata": {},
   "source": [
    "Функция по загрузке изображения и его идентификация"
   ]
  },
  {
   "cell_type": "code",
   "execution_count": 22,
   "id": "af11d82d",
   "metadata": {},
   "outputs": [],
   "source": [
    "def load_img(filename, model):\n",
    "    img = Image.open(filename).convert(\"L\").resize((28, 28))\n",
    "    plt.imshow(img, cmap=plt.cm.binary)\n",
    "    plt.show()\n",
    "    img = np.array(img).reshape(-1, np.prod((28,28)))/255.0\n",
    "    return model.predict(img)"
   ]
  },
  {
   "cell_type": "markdown",
   "id": "d5d45cc3",
   "metadata": {},
   "source": [
    "Различные пользовательские изображения и их идентификация "
   ]
  },
  {
   "cell_type": "code",
   "execution_count": 23,
   "id": "1872f5ea",
   "metadata": {},
   "outputs": [
    {
     "data": {
      "image/png": "[encoded data removed]",
      "text/plain": [
       "<Figure size 432x288 with 1 Axes>"
      ]
     },
     "metadata": {
      "needs_background": "light"
     },
     "output_type": "display_data"
    },
    {
     "name": "stdout",
     "output_type": "stream",
     "text": [
      "WARNING:tensorflow:Model was constructed with shape (None, 28, 28) for input KerasTensor(type_spec=TensorSpec(shape=(None, 28, 28), dtype=tf.float32, name='flatten_input'), name='flatten_input', description=\"created by layer 'flatten_input'\"), but it was called on an input with incompatible shape (None, 784).\n",
      "1/1 [==============================] - 0s 68ms/step\n",
      "0\n"
     ]
    }
   ],
   "source": [
    "print(np.argmax(load_img(\"C:\\\\Users\\\\lenovo\\\\OneDrive\\\\Рабочий стол\\\\ИС\\\\0.png\", model)))"
   ]
  },
  {
   "cell_type": "code",
   "execution_count": 24,
   "id": "f1ea8f34",
   "metadata": {},
   "outputs": [
    {
     "data": {
      "image/png": "[encoded data removed]",
      "text/plain": [
       "<Figure size 432x288 with 1 Axes>"
      ]
     },
     "metadata": {
      "needs_background": "light"
     },
     "output_type": "display_data"
    },
    {
     "name": "stdout",
     "output_type": "stream",
     "text": [
      "1/1 [==============================] - 0s 18ms/step\n",
      "1\n"
     ]
    }
   ],
   "source": [
    "print(np.argmax(load_img(\"C:\\\\Users\\\\lenovo\\\\OneDrive\\\\Рабочий стол\\\\ИС\\\\1.png\", model)))"
   ]
  },
  {
   "cell_type": "code",
   "execution_count": 25,
   "id": "497d83f8",
   "metadata": {},
   "outputs": [
    {
     "data": {
      "image/png": "[encoded data removed]",
      "text/plain": [
       "<Figure size 432x288 with 1 Axes>"
      ]
     },
     "metadata": {
      "needs_background": "light"
     },
     "output_type": "display_data"
    },
    {
     "name": "stdout",
     "output_type": "stream",
     "text": [
      "1/1 [==============================] - 0s 11ms/step\n",
      "2\n"
     ]
    }
   ],
   "source": [
    "print(np.argmax(load_img(\"C:\\\\Users\\\\lenovo\\\\OneDrive\\\\Рабочий стол\\\\ИС\\\\2.png\", model)))"
   ]
  },
  {
   "cell_type": "code",
   "execution_count": 38,
   "id": "47c92237",
   "metadata": {},
   "outputs": [
    {
     "data": {
      "image/png": "[encoded data removed]",
      "text/plain": [
       "<Figure size 432x288 with 1 Axes>"
      ]
     },
     "metadata": {
      "needs_background": "light"
     },
     "output_type": "display_data"
    },
    {
     "name": "stdout",
     "output_type": "stream",
     "text": [
      "1/1 [==============================] - 0s 16ms/step\n",
      "3\n"
     ]
    }
   ],
   "source": [
    "print(np.argmax(load_img(\"C:\\\\Users\\\\lenovo\\\\OneDrive\\\\Рабочий стол\\\\ИС\\\\3.png\", model)))"
   ]
  },
  {
   "cell_type": "code",
   "execution_count": 29,
   "id": "4d054837",
   "metadata": {},
   "outputs": [
    {
     "data": {
      "image/png": "[encoded data removed]",
      "text/plain": [
       "<Figure size 432x288 with 1 Axes>"
      ]
     },
     "metadata": {
      "needs_background": "light"
     },
     "output_type": "display_data"
    },
    {
     "name": "stdout",
     "output_type": "stream",
     "text": [
      "1/1 [==============================] - 0s 14ms/step\n",
      "4\n"
     ]
    }
   ],
   "source": [
    "print(np.argmax(load_img(\"C:\\\\Users\\\\lenovo\\\\OneDrive\\\\Рабочий стол\\\\ИС\\\\4.png\", model)))"
   ]
  },
  {
   "cell_type": "code",
   "execution_count": 27,
   "id": "35da4074",
   "metadata": {},
   "outputs": [
    {
     "data": {
      "image/png": "[encoded data removed]",
      "text/plain": [
       "<Figure size 432x288 with 1 Axes>"
      ]
     },
     "metadata": {
      "needs_background": "light"
     },
     "output_type": "display_data"
    },
    {
     "name": "stdout",
     "output_type": "stream",
     "text": [
      "1/1 [==============================] - 0s 23ms/step\n",
      "5\n"
     ]
    }
   ],
   "source": [
    "print(np.argmax(load_img(\"C:\\\\Users\\\\lenovo\\\\OneDrive\\\\Рабочий стол\\\\ИС\\\\5.png\", model)))"
   ]
  },
  {
   "cell_type": "code",
   "execution_count": 31,
   "id": "a5a4bfa6",
   "metadata": {},
   "outputs": [
    {
     "data": {
      "image/png": "[encoded data removed]",
      "text/plain": [
       "<Figure size 432x288 with 1 Axes>"
      ]
     },
     "metadata": {
      "needs_background": "light"
     },
     "output_type": "display_data"
    },
    {
     "name": "stdout",
     "output_type": "stream",
     "text": [
      "1/1 [==============================] - 0s 24ms/step\n",
      "6\n"
     ]
    }
   ],
   "source": [
    "print(np.argmax(load_img(\"C:\\\\Users\\\\lenovo\\\\OneDrive\\\\Рабочий стол\\\\ИС\\\\6.png\", model)))"
   ]
  },
  {
   "cell_type": "code",
   "execution_count": 30,
   "id": "6efb44ea",
   "metadata": {},
   "outputs": [
    {
     "data": {
      "image/png": "[encoded data removed]",
      "text/plain": [
       "<Figure size 432x288 with 1 Axes>"
      ]
     },
     "metadata": {
      "needs_background": "light"
     },
     "output_type": "display_data"
    },
    {
     "name": "stdout",
     "output_type": "stream",
     "text": [
      "1/1 [==============================] - 0s 17ms/step\n",
      "7\n"
     ]
    }
   ],
   "source": [
    "print(np.argmax(load_img(\"C:\\\\Users\\\\lenovo\\\\OneDrive\\\\Рабочий стол\\\\ИС\\\\7.png\", model)))"
   ]
  },
  {
   "cell_type": "code",
   "execution_count": 33,
   "id": "2b0e52f6",
   "metadata": {},
   "outputs": [
    {
     "data": {
      "image/png": "[encoded data removed]",
      "text/plain": [
       "<Figure size 432x288 with 1 Axes>"
      ]
     },
     "metadata": {
      "needs_background": "light"
     },
     "output_type": "display_data"
    },
    {
     "name": "stdout",
     "output_type": "stream",
     "text": [
      "1/1 [==============================] - 0s 16ms/step\n",
      "8\n"
     ]
    }
   ],
   "source": [
    "print(np.argmax(load_img(\"C:\\\\Users\\\\lenovo\\\\OneDrive\\\\Рабочий стол\\\\ИС\\\\8.png\", model)))"
   ]
  },
  {
   "cell_type": "code",
   "execution_count": 28,
   "id": "3a2bc03c",
   "metadata": {},
   "outputs": [
    {
     "data": {
      "image/png": "[encoded data removed]",
      "text/plain": [
       "<Figure size 432x288 with 1 Axes>"
      ]
     },
     "metadata": {
      "needs_background": "light"
     },
     "output_type": "display_data"
    },
    {
     "name": "stdout",
     "output_type": "stream",
     "text": [
      "1/1 [==============================] - 0s 15ms/step\n",
      "9\n"
     ]
    }
   ],
   "source": [
    "print(np.argmax(load_img(\"C:\\\\Users\\\\lenovo\\\\OneDrive\\\\Рабочий стол\\\\ИС\\\\9.png\", model)))"
   ]
  },
  {
   "cell_type": "code",
   "execution_count": 95,
   "id": "acadb11d",
   "metadata": {},
   "outputs": [
    {
     "data": {
      "image/png": "[encoded data removed]",
      "text/plain": [
       "<Figure size 432x288 with 1 Axes>"
      ]
     },
     "metadata": {
      "needs_background": "light"
     },
     "output_type": "display_data"
    },
    {
     "name": "stdout",
     "output_type": "stream",
     "text": [
      "1/1 [==============================] - 0s 16ms/step\n",
      "3\n"
     ]
    }
   ],
   "source": [
    "print(np.argmax(load_img(\"C:\\\\Users\\\\lenovo\\\\OneDrive\\\\Рабочий стол\\\\ИС\\\\9_1.png\", model)))"
   ]
  }
 ],
 "metadata": {
  "kernelspec": {
   "display_name": "Python 3 (ipykernel)",
   "language": "python",
   "name": "python3"
  },
  "language_info": {
   "codemirror_mode": {
    "name": "ipython",
    "version": 3
   },
   "file_extension": ".py",
   "mimetype": "text/x-python",
   "name": "python",
   "nbconvert_exporter": "python",
   "pygments_lexer": "ipython3",
   "version": "3.10.2"
  }
 },
 "nbformat": 4,
 "nbformat_minor": 5
}
