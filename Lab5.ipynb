{
 "cells": [
  {
   "cell_type": "markdown",
   "id": "3a093d84",
   "metadata": {},
   "source": [
    "# БФИ2001 Фаттахов Тагир "
   ]
  },
  {
   "cell_type": "markdown",
   "id": "69a71f0f",
   "metadata": {},
   "source": [
    "## Лабораторная работа №5 (Распознавание объектов на фотографиях)"
   ]
  },
  {
   "cell_type": "code",
   "execution_count": 1,
   "id": "f7849e86",
   "metadata": {},
   "outputs": [],
   "source": [
    "from keras.datasets import cifar10\n",
    "from keras.models import Model\n",
    "from keras.layers import Input, Convolution2D, MaxPooling2D, Dense, Dropout, Flatten\n",
    "from keras.utils import np_utils\n",
    "import numpy as np\n",
    "import matplotlib.pyplot as plt"
   ]
  },
  {
   "cell_type": "markdown",
   "id": "c75894b5",
   "metadata": {},
   "source": [
    "Устанавливаем параметры для обучения ИНС"
   ]
  },
  {
   "cell_type": "code",
   "execution_count": 2,
   "id": "5318d3a1",
   "metadata": {},
   "outputs": [],
   "source": [
    "batch_size = 32\n",
    "num_epochs = 36 \n",
    "kernel_size = 3\n",
    "pool_size = 2\n",
    "conv_depth_1 = 32 \n",
    "conv_depth_2 = 64 \n",
    "drop_prob_1 = 0.25\n",
    "drop_prob_2 = 0.5 \n",
    "hidden_size = 512"
   ]
  },
  {
   "cell_type": "markdown",
   "id": "b66068b5",
   "metadata": {},
   "source": [
    "Загрузка и нормализация данных обучения"
   ]
  },
  {
   "cell_type": "code",
   "execution_count": 3,
   "id": "22b64cce",
   "metadata": {},
   "outputs": [],
   "source": [
    "(X_train, y_train), (X_test, y_test) = cifar10.load_data() \n",
    "num_train, depth, height, width = X_train.shape \n",
    "num_test = X_test.shape[0] \n",
    "num_classes = np.unique(y_train).shape[0]\n",
    "X_train = X_train.astype('float32')\n",
    "X_test = X_test.astype('float32')\n",
    "X_train /= np.max(X_train) \n",
    "X_test /= np.max(X_train) \n",
    "Y_train = np_utils.to_categorical(y_train, num_classes) \n",
    "Y_test = np_utils.to_categorical(y_test, num_classes) "
   ]
  },
  {
   "cell_type": "markdown",
   "id": "ee9d1c76",
   "metadata": {},
   "source": [
    "Создание свёрточной ИНС в функциональном виде с размером ядра свертки равной 3"
   ]
  },
  {
   "cell_type": "code",
   "execution_count": 4,
   "id": "b1683ac2",
   "metadata": {},
   "outputs": [
    {
     "name": "stdout",
     "output_type": "stream",
     "text": [
      "Epoch 1/36\n",
      "1407/1407 [==============================] - 150s 106ms/step - loss: 1.5248 - accuracy: 0.4424 - val_loss: 1.1401 - val_accuracy: 0.5944\n",
      "Epoch 2/36\n",
      "1407/1407 [==============================] - 148s 105ms/step - loss: 1.1113 - accuracy: 0.6028 - val_loss: 0.9167 - val_accuracy: 0.6870\n",
      "Epoch 3/36\n",
      "1407/1407 [==============================] - 149s 106ms/step - loss: 0.9383 - accuracy: 0.6692 - val_loss: 0.8058 - val_accuracy: 0.7176\n",
      "Epoch 4/36\n",
      "1407/1407 [==============================] - 142s 101ms/step - loss: 0.8385 - accuracy: 0.7047 - val_loss: 0.7434 - val_accuracy: 0.7380\n",
      "Epoch 5/36\n",
      "1407/1407 [==============================] - 142s 101ms/step - loss: 0.7701 - accuracy: 0.7292 - val_loss: 0.6952 - val_accuracy: 0.7616\n",
      "Epoch 6/36\n",
      "1407/1407 [==============================] - 143s 101ms/step - loss: 0.7138 - accuracy: 0.7484 - val_loss: 0.6846 - val_accuracy: 0.7610\n",
      "Epoch 7/36\n",
      "1407/1407 [==============================] - 142s 101ms/step - loss: 0.6679 - accuracy: 0.7666 - val_loss: 0.6647 - val_accuracy: 0.7638\n",
      "Epoch 8/36\n",
      "1407/1407 [==============================] - 142s 101ms/step - loss: 0.6247 - accuracy: 0.7811 - val_loss: 0.6537 - val_accuracy: 0.7744\n",
      "Epoch 9/36\n",
      "1407/1407 [==============================] - 142s 101ms/step - loss: 0.5928 - accuracy: 0.7909 - val_loss: 0.6449 - val_accuracy: 0.7800\n",
      "Epoch 10/36\n",
      "1407/1407 [==============================] - 143s 101ms/step - loss: 0.5753 - accuracy: 0.7962 - val_loss: 0.6536 - val_accuracy: 0.7822\n",
      "Epoch 11/36\n",
      "1407/1407 [==============================] - 142s 101ms/step - loss: 0.5425 - accuracy: 0.8090 - val_loss: 0.6544 - val_accuracy: 0.7798\n",
      "Epoch 12/36\n",
      "1407/1407 [==============================] - 142s 101ms/step - loss: 0.5208 - accuracy: 0.8160 - val_loss: 0.6594 - val_accuracy: 0.7812\n",
      "Epoch 13/36\n",
      "1407/1407 [==============================] - 142s 101ms/step - loss: 0.4998 - accuracy: 0.8233 - val_loss: 0.6615 - val_accuracy: 0.7870\n",
      "Epoch 14/36\n",
      "1407/1407 [==============================] - 142s 101ms/step - loss: 0.4853 - accuracy: 0.8278 - val_loss: 0.6883 - val_accuracy: 0.7766\n",
      "Epoch 15/36\n",
      "1407/1407 [==============================] - 142s 101ms/step - loss: 0.4708 - accuracy: 0.8347 - val_loss: 0.6430 - val_accuracy: 0.7924\n",
      "Epoch 16/36\n",
      "1407/1407 [==============================] - 142s 101ms/step - loss: 0.4604 - accuracy: 0.8383 - val_loss: 0.6592 - val_accuracy: 0.7896\n",
      "Epoch 17/36\n",
      "1407/1407 [==============================] - 142s 101ms/step - loss: 0.4451 - accuracy: 0.8438 - val_loss: 0.6512 - val_accuracy: 0.7884\n",
      "Epoch 18/36\n",
      "1407/1407 [==============================] - 142s 101ms/step - loss: 0.4338 - accuracy: 0.8474 - val_loss: 0.6904 - val_accuracy: 0.7784\n",
      "Epoch 19/36\n",
      "1407/1407 [==============================] - 142s 101ms/step - loss: 0.4227 - accuracy: 0.8502 - val_loss: 0.6947 - val_accuracy: 0.7884\n",
      "Epoch 20/36\n",
      "1407/1407 [==============================] - 143s 101ms/step - loss: 0.4116 - accuracy: 0.8551 - val_loss: 0.6583 - val_accuracy: 0.7950\n",
      "Epoch 21/36\n",
      "1407/1407 [==============================] - 142s 101ms/step - loss: 0.3983 - accuracy: 0.8606 - val_loss: 0.6916 - val_accuracy: 0.7904\n",
      "Epoch 22/36\n",
      "1407/1407 [==============================] - 142s 101ms/step - loss: 0.3959 - accuracy: 0.8610 - val_loss: 0.6688 - val_accuracy: 0.7916\n",
      "Epoch 23/36\n",
      "1407/1407 [==============================] - 142s 101ms/step - loss: 0.3828 - accuracy: 0.8669 - val_loss: 0.6762 - val_accuracy: 0.7898\n",
      "Epoch 24/36\n",
      "1407/1407 [==============================] - 142s 101ms/step - loss: 0.3756 - accuracy: 0.8678 - val_loss: 0.6844 - val_accuracy: 0.7948\n",
      "Epoch 25/36\n",
      "1407/1407 [==============================] - 142s 101ms/step - loss: 0.3790 - accuracy: 0.8675 - val_loss: 0.6835 - val_accuracy: 0.7952\n",
      "Epoch 26/36\n",
      "1407/1407 [==============================] - 142s 101ms/step - loss: 0.3711 - accuracy: 0.8711 - val_loss: 0.7031 - val_accuracy: 0.7952\n",
      "Epoch 27/36\n",
      "1407/1407 [==============================] - 142s 101ms/step - loss: 0.3582 - accuracy: 0.8756 - val_loss: 0.6787 - val_accuracy: 0.7902\n",
      "Epoch 28/36\n",
      "1407/1407 [==============================] - 142s 101ms/step - loss: 0.3487 - accuracy: 0.8775 - val_loss: 0.6683 - val_accuracy: 0.7960\n",
      "Epoch 29/36\n",
      "1407/1407 [==============================] - 143s 101ms/step - loss: 0.3509 - accuracy: 0.8775 - val_loss: 0.6746 - val_accuracy: 0.7968\n",
      "Epoch 30/36\n",
      "1407/1407 [==============================] - 143s 101ms/step - loss: 0.3436 - accuracy: 0.8825 - val_loss: 0.6897 - val_accuracy: 0.7894\n",
      "Epoch 31/36\n",
      "1407/1407 [==============================] - 143s 101ms/step - loss: 0.3410 - accuracy: 0.8828 - val_loss: 0.7045 - val_accuracy: 0.7908\n",
      "Epoch 32/36\n",
      "1407/1407 [==============================] - 143s 101ms/step - loss: 0.3348 - accuracy: 0.8848 - val_loss: 0.7095 - val_accuracy: 0.7918\n",
      "Epoch 33/36\n",
      "1407/1407 [==============================] - 142s 101ms/step - loss: 0.3247 - accuracy: 0.8877 - val_loss: 0.7030 - val_accuracy: 0.7982\n",
      "Epoch 34/36\n",
      "1407/1407 [==============================] - 143s 101ms/step - loss: 0.3228 - accuracy: 0.8864 - val_loss: 0.7110 - val_accuracy: 0.7978\n",
      "Epoch 35/36\n",
      "1407/1407 [==============================] - 143s 101ms/step - loss: 0.3201 - accuracy: 0.8880 - val_loss: 0.7195 - val_accuracy: 0.7902\n",
      "Epoch 36/36\n",
      "1407/1407 [==============================] - 142s 101ms/step - loss: 0.3142 - accuracy: 0.8928 - val_loss: 0.7471 - val_accuracy: 0.7938\n",
      "313/313 [==============================] - 5s 16ms/step - loss: 294.6301 - accuracy: 0.5626\n"
     ]
    }
   ],
   "source": [
    "inp = Input(shape=(depth, height, width))\n",
    "conv_1 = Convolution2D(conv_depth_1, (kernel_size, kernel_size), padding='same', activation='relu')(inp)\n",
    "conv_2 = Convolution2D(conv_depth_1, (kernel_size, kernel_size), padding='same', activation='relu')(conv_1)\n",
    "pool_1 = MaxPooling2D(pool_size=(pool_size, pool_size))(conv_2)\n",
    "drop_1 = Dropout(drop_prob_1)(pool_1)\n",
    "\n",
    "conv_3 = Convolution2D(conv_depth_2, (kernel_size, kernel_size), padding='same', activation='relu')(drop_1)\n",
    "conv_4 = Convolution2D(conv_depth_2, (kernel_size, kernel_size), padding='same', activation='relu')(conv_3)\n",
    "pool_2 = MaxPooling2D(pool_size=(pool_size, pool_size))(conv_4)\n",
    "drop_2 = Dropout(drop_prob_1)(pool_2)\n",
    "\n",
    "flat = Flatten()(drop_2)\n",
    "hidden = Dense(hidden_size, activation='relu')(flat)\n",
    "drop_3 = Dropout(drop_prob_2)(hidden)\n",
    "out = Dense(num_classes, activation='softmax')(drop_3)\n",
    "model = Model(inputs=inp, outputs=out)\n",
    "model.compile(loss='categorical_crossentropy', optimizer='adam',metrics=['accuracy'])\n",
    "history = model.fit(X_train, Y_train, batch_size=batch_size, epochs=num_epochs, verbose=1, validation_split=0.1)\n",
    "history1 = model.evaluate(X_test, Y_test, verbose=1)"
   ]
  },
  {
   "cell_type": "markdown",
   "id": "f2856b22",
   "metadata": {},
   "source": [
    "Создание свёрточной ИНС с размером ядра свертки равной 3 без слоев Dropout"
   ]
  },
  {
   "cell_type": "code",
   "execution_count": 5,
   "id": "b741ead4",
   "metadata": {},
   "outputs": [
    {
     "name": "stdout",
     "output_type": "stream",
     "text": [
      "Epoch 1/36\n",
      "1407/1407 [==============================] - 759s 539ms/step - loss: 1.3784 - accuracy: 0.5046 - val_loss: 1.0656 - val_accuracy: 0.6216\n",
      "Epoch 2/36\n",
      "1407/1407 [==============================] - 760s 540ms/step - loss: 0.9006 - accuracy: 0.6836 - val_loss: 0.8945 - val_accuracy: 0.6938\n",
      "Epoch 3/36\n",
      "1407/1407 [==============================] - 758s 539ms/step - loss: 0.5592 - accuracy: 0.8044 - val_loss: 0.9681 - val_accuracy: 0.6864\n",
      "Epoch 4/36\n",
      "1407/1407 [==============================] - 794s 565ms/step - loss: 0.2394 - accuracy: 0.9184 - val_loss: 1.2764 - val_accuracy: 0.6716\n",
      "Epoch 5/36\n",
      "1407/1407 [==============================] - 773s 550ms/step - loss: 0.1070 - accuracy: 0.9632 - val_loss: 1.6809 - val_accuracy: 0.6684\n",
      "Epoch 6/36\n",
      "1407/1407 [==============================] - 761s 541ms/step - loss: 0.0815 - accuracy: 0.9729 - val_loss: 1.9547 - val_accuracy: 0.6606\n",
      "Epoch 7/36\n",
      "1407/1407 [==============================] - 781s 555ms/step - loss: 0.0673 - accuracy: 0.9779 - val_loss: 2.2567 - val_accuracy: 0.6702\n",
      "Epoch 8/36\n",
      "1407/1407 [==============================] - 776s 552ms/step - loss: 0.0602 - accuracy: 0.9812 - val_loss: 2.2981 - val_accuracy: 0.6632\n",
      "Epoch 9/36\n",
      "1407/1407 [==============================] - 778s 553ms/step - loss: 0.0553 - accuracy: 0.9820 - val_loss: 2.5039 - val_accuracy: 0.6644\n",
      "Epoch 10/36\n",
      "1407/1407 [==============================] - 783s 557ms/step - loss: 0.0547 - accuracy: 0.9833 - val_loss: 2.5682 - val_accuracy: 0.6624\n",
      "Epoch 11/36\n",
      "1407/1407 [==============================] - 787s 559ms/step - loss: 0.0476 - accuracy: 0.9846 - val_loss: 2.5589 - val_accuracy: 0.6616\n",
      "Epoch 12/36\n",
      "1407/1407 [==============================] - 785s 558ms/step - loss: 0.0485 - accuracy: 0.9847 - val_loss: 2.5730 - val_accuracy: 0.6632\n",
      "Epoch 13/36\n",
      "1407/1407 [==============================] - 782s 556ms/step - loss: 0.0358 - accuracy: 0.9890 - val_loss: 2.6459 - val_accuracy: 0.6580\n",
      "Epoch 14/36\n",
      "1407/1407 [==============================] - 773s 549ms/step - loss: 0.0452 - accuracy: 0.9868 - val_loss: 2.8568 - val_accuracy: 0.6466\n",
      "Epoch 15/36\n",
      "1407/1407 [==============================] - 775s 551ms/step - loss: 0.0353 - accuracy: 0.9895 - val_loss: 3.2092 - val_accuracy: 0.6524\n",
      "Epoch 16/36\n",
      "1407/1407 [==============================] - 792s 563ms/step - loss: 0.0394 - accuracy: 0.9881 - val_loss: 3.3222 - val_accuracy: 0.6516\n",
      "Epoch 17/36\n",
      "1407/1407 [==============================] - 778s 553ms/step - loss: 0.0405 - accuracy: 0.9884 - val_loss: 3.3411 - val_accuracy: 0.6410\n",
      "Epoch 18/36\n",
      "1407/1407 [==============================] - 778s 553ms/step - loss: 0.0341 - accuracy: 0.9907 - val_loss: 3.3196 - val_accuracy: 0.6436\n",
      "Epoch 19/36\n",
      "1407/1407 [==============================] - 778s 553ms/step - loss: 0.0326 - accuracy: 0.9908 - val_loss: 3.3654 - val_accuracy: 0.6436\n",
      "Epoch 20/36\n",
      "1407/1407 [==============================] - 780s 554ms/step - loss: 0.0296 - accuracy: 0.9916 - val_loss: 2.9995 - val_accuracy: 0.6520\n",
      "Epoch 21/36\n",
      "1407/1407 [==============================] - 782s 556ms/step - loss: 0.0348 - accuracy: 0.9900 - val_loss: 3.5402 - val_accuracy: 0.6434\n",
      "Epoch 22/36\n",
      "1407/1407 [==============================] - 776s 552ms/step - loss: 0.0353 - accuracy: 0.9902 - val_loss: 3.4478 - val_accuracy: 0.6562\n",
      "Epoch 23/36\n",
      "1407/1407 [==============================] - 778s 553ms/step - loss: 0.0287 - accuracy: 0.9924 - val_loss: 3.4878 - val_accuracy: 0.6550\n",
      "Epoch 24/36\n",
      "1407/1407 [==============================] - 778s 553ms/step - loss: 0.0326 - accuracy: 0.9910 - val_loss: 3.7725 - val_accuracy: 0.6468\n",
      "Epoch 25/36\n",
      "1407/1407 [==============================] - 778s 553ms/step - loss: 0.0252 - accuracy: 0.9928 - val_loss: 4.1899 - val_accuracy: 0.6400\n",
      "Epoch 26/36\n",
      "1407/1407 [==============================] - 778s 553ms/step - loss: 0.0334 - accuracy: 0.9915 - val_loss: 3.6321 - val_accuracy: 0.6548\n",
      "Epoch 27/36\n",
      "1407/1407 [==============================] - 778s 553ms/step - loss: 0.0271 - accuracy: 0.9929 - val_loss: 4.3200 - val_accuracy: 0.6560\n",
      "Epoch 28/36\n",
      "1407/1407 [==============================] - 778s 553ms/step - loss: 0.0303 - accuracy: 0.9921 - val_loss: 4.6651 - val_accuracy: 0.6476\n",
      "Epoch 29/36\n",
      "1407/1407 [==============================] - 776s 552ms/step - loss: 0.0303 - accuracy: 0.9923 - val_loss: 4.6997 - val_accuracy: 0.6436\n",
      "Epoch 30/36\n",
      "1407/1407 [==============================] - 2995s 2s/step - loss: 0.0326 - accuracy: 0.9917 - val_loss: 4.2658 - val_accuracy: 0.6456\n",
      "Epoch 31/36\n",
      "1407/1407 [==============================] - 781s 555ms/step - loss: 0.0232 - accuracy: 0.9942 - val_loss: 5.2216 - val_accuracy: 0.6386\n",
      "Epoch 32/36\n",
      "1407/1407 [==============================] - 777s 553ms/step - loss: 0.0326 - accuracy: 0.9918 - val_loss: 5.2333 - val_accuracy: 0.6338\n",
      "Epoch 33/36\n",
      "1407/1407 [==============================] - 777s 552ms/step - loss: 0.0316 - accuracy: 0.9926 - val_loss: 4.7889 - val_accuracy: 0.6508\n",
      "Epoch 34/36\n",
      "1407/1407 [==============================] - 777s 552ms/step - loss: 0.0239 - accuracy: 0.9939 - val_loss: 5.0016 - val_accuracy: 0.6532\n",
      "Epoch 35/36\n",
      "1407/1407 [==============================] - 776s 552ms/step - loss: 0.0282 - accuracy: 0.9936 - val_loss: 4.7138 - val_accuracy: 0.6390\n",
      "Epoch 36/36\n",
      "1407/1407 [==============================] - 777s 552ms/step - loss: 0.0279 - accuracy: 0.9933 - val_loss: 5.2081 - val_accuracy: 0.6360\n",
      "313/313 [==============================] - 15s 49ms/step - loss: 1613.2241 - accuracy: 0.4588\n"
     ]
    }
   ],
   "source": [
    "inp2 = Input(shape=(depth, height, width))\n",
    "conv_2_1 = Convolution2D(conv_depth_1, (kernel_size, kernel_size), padding='same', activation='relu')(inp2)\n",
    "conv_2_2 = Convolution2D(conv_depth_1, (kernel_size, kernel_size), padding='same', activation='relu')(conv_2_1)\n",
    "pool_2_1 = MaxPooling2D(pool_size=(pool_size, pool_size))(conv_2_2)\n",
    "\n",
    "conv_2_3 = Convolution2D(conv_depth_2, (kernel_size, kernel_size), padding='same', activation='relu')(conv_2_2)\n",
    "conv_2_4 = Convolution2D(conv_depth_2, (kernel_size, kernel_size), padding='same', activation='relu')(conv_2_3)\n",
    "pool_2_2 = MaxPooling2D(pool_size=(pool_size, pool_size))(conv_2_4)\n",
    "\n",
    "flat2 = Flatten()(conv_2_4)\n",
    "hidden2 = Dense(hidden_size, activation='relu')(flat2)\n",
    "out2 = Dense(num_classes, activation='softmax')(hidden2)\n",
    "model2 = Model(inputs=inp2, outputs=out2)\n",
    "model2.compile(loss='categorical_crossentropy', optimizer='adam',metrics=['accuracy'])\n",
    "history2 = model2.fit(X_train, Y_train, batch_size=batch_size, epochs=num_epochs, verbose=1, validation_split=0.1)\n",
    "history2_1 = model2.evaluate(X_test, Y_test, verbose=1)"
   ]
  },
  {
   "cell_type": "markdown",
   "id": "8c01dcf4",
   "metadata": {},
   "source": [
    "Создание свёрточной ИНС в функциональном виде с размером ядра свертки равной 5"
   ]
  },
  {
   "cell_type": "code",
   "execution_count": 4,
   "id": "c421f48c",
   "metadata": {},
   "outputs": [
    {
     "name": "stdout",
     "output_type": "stream",
     "text": [
      "Epoch 1/36\n",
      "1407/1407 [==============================] - 267s 189ms/step - loss: 1.6577 - accuracy: 0.3914 - val_loss: 1.3123 - val_accuracy: 0.5198\n",
      "Epoch 2/36\n",
      "1407/1407 [==============================] - 253s 180ms/step - loss: 1.2816 - accuracy: 0.5406 - val_loss: 1.0540 - val_accuracy: 0.6258\n",
      "Epoch 3/36\n",
      "1407/1407 [==============================] - 252s 179ms/step - loss: 1.1281 - accuracy: 0.5973 - val_loss: 0.9614 - val_accuracy: 0.6694\n",
      "Epoch 4/36\n",
      "1407/1407 [==============================] - 238s 169ms/step - loss: 1.0331 - accuracy: 0.6326 - val_loss: 0.9529 - val_accuracy: 0.6636\n",
      "Epoch 5/36\n",
      "1407/1407 [==============================] - 253s 180ms/step - loss: 0.9561 - accuracy: 0.6599 - val_loss: 0.8881 - val_accuracy: 0.6870\n",
      "Epoch 6/36\n",
      "1407/1407 [==============================] - 253s 180ms/step - loss: 0.9016 - accuracy: 0.6824 - val_loss: 0.8492 - val_accuracy: 0.7070\n",
      "Epoch 7/36\n",
      "1407/1407 [==============================] - 254s 180ms/step - loss: 0.8660 - accuracy: 0.6940 - val_loss: 0.8018 - val_accuracy: 0.7236\n",
      "Epoch 8/36\n",
      "1407/1407 [==============================] - 245s 174ms/step - loss: 0.8306 - accuracy: 0.7086 - val_loss: 0.8149 - val_accuracy: 0.7290\n",
      "Epoch 9/36\n",
      "1407/1407 [==============================] - 246s 174ms/step - loss: 0.7856 - accuracy: 0.7232 - val_loss: 0.8035 - val_accuracy: 0.7226\n",
      "Epoch 10/36\n",
      "1407/1407 [==============================] - 247s 175ms/step - loss: 0.7641 - accuracy: 0.7299 - val_loss: 0.8480 - val_accuracy: 0.7208\n",
      "Epoch 11/36\n",
      "1407/1407 [==============================] - 245s 174ms/step - loss: 0.7414 - accuracy: 0.7389 - val_loss: 0.7609 - val_accuracy: 0.7424\n",
      "Epoch 12/36\n",
      "1407/1407 [==============================] - 247s 175ms/step - loss: 0.7165 - accuracy: 0.7455 - val_loss: 0.7992 - val_accuracy: 0.7356\n",
      "Epoch 13/36\n",
      "1407/1407 [==============================] - 249s 177ms/step - loss: 0.6979 - accuracy: 0.7558 - val_loss: 0.8087 - val_accuracy: 0.7334\n",
      "Epoch 14/36\n",
      "1407/1407 [==============================] - 250s 178ms/step - loss: 0.6785 - accuracy: 0.7614 - val_loss: 0.7810 - val_accuracy: 0.7482\n",
      "Epoch 15/36\n",
      "1407/1407 [==============================] - 263s 187ms/step - loss: 0.6584 - accuracy: 0.7693 - val_loss: 0.7708 - val_accuracy: 0.7470\n",
      "Epoch 16/36\n",
      "1407/1407 [==============================] - 253s 180ms/step - loss: 0.6479 - accuracy: 0.7720 - val_loss: 0.7723 - val_accuracy: 0.7516\n",
      "Epoch 17/36\n",
      "1407/1407 [==============================] - 246s 175ms/step - loss: 0.6387 - accuracy: 0.7760 - val_loss: 0.7690 - val_accuracy: 0.7570\n",
      "Epoch 18/36\n",
      "1407/1407 [==============================] - 250s 178ms/step - loss: 0.6173 - accuracy: 0.7837 - val_loss: 0.7439 - val_accuracy: 0.7598\n",
      "Epoch 19/36\n",
      "1407/1407 [==============================] - 254s 180ms/step - loss: 0.6090 - accuracy: 0.7865 - val_loss: 0.7539 - val_accuracy: 0.7632\n",
      "Epoch 20/36\n",
      "1407/1407 [==============================] - 249s 177ms/step - loss: 0.5956 - accuracy: 0.7897 - val_loss: 0.7837 - val_accuracy: 0.7490\n",
      "Epoch 21/36\n",
      "1407/1407 [==============================] - 250s 177ms/step - loss: 0.5924 - accuracy: 0.7924 - val_loss: 0.7750 - val_accuracy: 0.7496\n",
      "Epoch 22/36\n",
      "1407/1407 [==============================] - 253s 180ms/step - loss: 0.5656 - accuracy: 0.8031 - val_loss: 0.7794 - val_accuracy: 0.7634\n",
      "Epoch 23/36\n",
      "1407/1407 [==============================] - 269s 192ms/step - loss: 0.5679 - accuracy: 0.8008 - val_loss: 0.7774 - val_accuracy: 0.7486\n",
      "Epoch 24/36\n",
      "1407/1407 [==============================] - 256s 182ms/step - loss: 0.5559 - accuracy: 0.8059 - val_loss: 0.7664 - val_accuracy: 0.7564\n",
      "Epoch 25/36\n",
      "1407/1407 [==============================] - 264s 188ms/step - loss: 0.5404 - accuracy: 0.8119 - val_loss: 0.8268 - val_accuracy: 0.7576\n",
      "Epoch 26/36\n",
      "1407/1407 [==============================] - 269s 191ms/step - loss: 0.5383 - accuracy: 0.8131 - val_loss: 0.7964 - val_accuracy: 0.7588\n",
      "Epoch 27/36\n",
      "1407/1407 [==============================] - 267s 189ms/step - loss: 0.5390 - accuracy: 0.8127 - val_loss: 0.7660 - val_accuracy: 0.7692\n",
      "Epoch 28/36\n",
      "1407/1407 [==============================] - 268s 190ms/step - loss: 0.5251 - accuracy: 0.8180 - val_loss: 0.8560 - val_accuracy: 0.7416\n",
      "Epoch 29/36\n",
      "1407/1407 [==============================] - 254s 180ms/step - loss: 0.5243 - accuracy: 0.8192 - val_loss: 0.7682 - val_accuracy: 0.7634\n",
      "Epoch 30/36\n",
      "1407/1407 [==============================] - 272s 194ms/step - loss: 0.5161 - accuracy: 0.8215 - val_loss: 0.7808 - val_accuracy: 0.7714\n",
      "Epoch 31/36\n",
      "1407/1407 [==============================] - 261s 186ms/step - loss: 0.5123 - accuracy: 0.8255 - val_loss: 0.8816 - val_accuracy: 0.7314\n",
      "Epoch 32/36\n",
      "1407/1407 [==============================] - 260s 185ms/step - loss: 0.5067 - accuracy: 0.8245 - val_loss: 0.7832 - val_accuracy: 0.7562\n",
      "Epoch 33/36\n",
      "1407/1407 [==============================] - 268s 190ms/step - loss: 0.4937 - accuracy: 0.8290 - val_loss: 0.8173 - val_accuracy: 0.7668\n",
      "Epoch 34/36\n",
      "1407/1407 [==============================] - 264s 187ms/step - loss: 0.5015 - accuracy: 0.8271 - val_loss: 0.8321 - val_accuracy: 0.7520\n",
      "Epoch 35/36\n",
      "1407/1407 [==============================] - 260s 185ms/step - loss: 0.4878 - accuracy: 0.8336 - val_loss: 0.8876 - val_accuracy: 0.7490\n",
      "Epoch 36/36\n",
      "1407/1407 [==============================] - 267s 190ms/step - loss: 0.4928 - accuracy: 0.8302 - val_loss: 0.8185 - val_accuracy: 0.7560\n",
      "313/313 [==============================] - 10s 32ms/step - loss: 332.4825 - accuracy: 0.5452\n"
     ]
    }
   ],
   "source": [
    "kernel_size = 5\n",
    "inp4 = Input(shape=(depth, height, width))\n",
    "conv4_1 = Convolution2D(conv_depth_1, (kernel_size, kernel_size), padding='same', activation='relu')(inp4)\n",
    "conv4_2 = Convolution2D(conv_depth_1, (kernel_size, kernel_size), padding='same', activation='relu')(conv4_1)\n",
    "pool4_1 = MaxPooling2D(pool_size=(pool_size, pool_size))(conv4_2)\n",
    "drop4_1 = Dropout(drop_prob_1)(pool4_1)\n",
    "\n",
    "conv4_3 = Convolution2D(conv_depth_2, (kernel_size, kernel_size), padding='same', activation='relu')(drop4_1)\n",
    "conv4_4 = Convolution2D(conv_depth_2, (kernel_size, kernel_size), padding='same', activation='relu')(conv4_3)\n",
    "pool4_2 = MaxPooling2D(pool_size=(pool_size, pool_size))(conv4_4)\n",
    "drop4_2 = Dropout(drop_prob_1)(pool4_2)\n",
    "\n",
    "flat4 = Flatten()(drop4_2)\n",
    "hidden4 = Dense(hidden_size, activation='relu')(flat4)\n",
    "drop4_3 = Dropout(drop_prob_2)(hidden4)\n",
    "out4 = Dense(num_classes, activation='softmax')(drop4_3)\n",
    "model4 = Model(inputs=inp4, outputs=out4)\n",
    "model4.compile(loss='categorical_crossentropy', optimizer='adam',metrics=['accuracy'])\n",
    "history4 = model4.fit(X_train, Y_train, batch_size=batch_size, epochs=num_epochs, verbose=1, validation_split=0.1)\n",
    "history4_1 = model4.evaluate(X_test, Y_test, verbose=1)"
   ]
  },
  {
   "cell_type": "markdown",
   "id": "6b298e66",
   "metadata": {},
   "source": [
    "Создание свёрточной ИНС в функциональном виде с размером ядра свертки равной 2"
   ]
  },
  {
   "cell_type": "code",
   "execution_count": 6,
   "id": "5bf06e35",
   "metadata": {},
   "outputs": [
    {
     "name": "stdout",
     "output_type": "stream",
     "text": [
      "Epoch 1/36\n",
      "1407/1407 [==============================] - 117s 82ms/step - loss: 1.5669 - accuracy: 0.4266 - val_loss: 1.1854 - val_accuracy: 0.5764\n",
      "Epoch 2/36\n",
      "1407/1407 [==============================] - 115s 82ms/step - loss: 1.1634 - accuracy: 0.5842 - val_loss: 0.9528 - val_accuracy: 0.6596\n",
      "Epoch 3/36\n",
      "1407/1407 [==============================] - 116s 83ms/step - loss: 1.0123 - accuracy: 0.6422 - val_loss: 0.8620 - val_accuracy: 0.6988\n",
      "Epoch 4/36\n",
      "1407/1407 [==============================] - 116s 83ms/step - loss: 0.9330 - accuracy: 0.6701 - val_loss: 0.8219 - val_accuracy: 0.7120\n",
      "Epoch 5/36\n",
      "1407/1407 [==============================] - 116s 82ms/step - loss: 0.8588 - accuracy: 0.6980 - val_loss: 0.7539 - val_accuracy: 0.7332\n",
      "Epoch 6/36\n",
      "1407/1407 [==============================] - 115s 82ms/step - loss: 0.8027 - accuracy: 0.7154 - val_loss: 0.7270 - val_accuracy: 0.7454\n",
      "Epoch 7/36\n",
      "1407/1407 [==============================] - 112s 80ms/step - loss: 0.7537 - accuracy: 0.7317 - val_loss: 0.7141 - val_accuracy: 0.7568\n",
      "Epoch 8/36\n",
      "1407/1407 [==============================] - 115s 82ms/step - loss: 0.7190 - accuracy: 0.7462 - val_loss: 0.7011 - val_accuracy: 0.7614\n",
      "Epoch 9/36\n",
      "1407/1407 [==============================] - 111s 79ms/step - loss: 0.6766 - accuracy: 0.7600 - val_loss: 0.7122 - val_accuracy: 0.7552\n",
      "Epoch 10/36\n",
      "1407/1407 [==============================] - 112s 79ms/step - loss: 0.6462 - accuracy: 0.7715 - val_loss: 0.6912 - val_accuracy: 0.7624\n",
      "Epoch 11/36\n",
      "1407/1407 [==============================] - 112s 80ms/step - loss: 0.6195 - accuracy: 0.7820 - val_loss: 0.6871 - val_accuracy: 0.7652\n",
      "Epoch 12/36\n",
      "1407/1407 [==============================] - 114s 81ms/step - loss: 0.5931 - accuracy: 0.7880 - val_loss: 0.6716 - val_accuracy: 0.7684\n",
      "Epoch 13/36\n",
      "1407/1407 [==============================] - 113s 81ms/step - loss: 0.5637 - accuracy: 0.8003 - val_loss: 0.6738 - val_accuracy: 0.7728\n",
      "Epoch 14/36\n",
      "1407/1407 [==============================] - 112s 80ms/step - loss: 0.5471 - accuracy: 0.8049 - val_loss: 0.7105 - val_accuracy: 0.7594\n",
      "Epoch 15/36\n",
      "1407/1407 [==============================] - 112s 80ms/step - loss: 0.5177 - accuracy: 0.8141 - val_loss: 0.6821 - val_accuracy: 0.7664\n",
      "Epoch 16/36\n",
      "1407/1407 [==============================] - 113s 80ms/step - loss: 0.5090 - accuracy: 0.8211 - val_loss: 0.6655 - val_accuracy: 0.7758\n",
      "Epoch 17/36\n",
      "1407/1407 [==============================] - 113s 80ms/step - loss: 0.4897 - accuracy: 0.8247 - val_loss: 0.6718 - val_accuracy: 0.7730\n",
      "Epoch 18/36\n",
      "1407/1407 [==============================] - 112s 80ms/step - loss: 0.4774 - accuracy: 0.8296 - val_loss: 0.7045 - val_accuracy: 0.7684\n",
      "Epoch 19/36\n",
      "1407/1407 [==============================] - 112s 80ms/step - loss: 0.4591 - accuracy: 0.8355 - val_loss: 0.6813 - val_accuracy: 0.7770\n",
      "Epoch 20/36\n",
      "1407/1407 [==============================] - 112s 80ms/step - loss: 0.4519 - accuracy: 0.8387 - val_loss: 0.6962 - val_accuracy: 0.7764\n",
      "Epoch 21/36\n",
      "1407/1407 [==============================] - 113s 81ms/step - loss: 0.4427 - accuracy: 0.8414 - val_loss: 0.7034 - val_accuracy: 0.7786\n",
      "Epoch 22/36\n",
      "1407/1407 [==============================] - 112s 80ms/step - loss: 0.4295 - accuracy: 0.8467 - val_loss: 0.6865 - val_accuracy: 0.7810\n",
      "Epoch 23/36\n",
      "1407/1407 [==============================] - 113s 80ms/step - loss: 0.4179 - accuracy: 0.8514 - val_loss: 0.7271 - val_accuracy: 0.7780\n",
      "Epoch 24/36\n",
      "1407/1407 [==============================] - 113s 80ms/step - loss: 0.4067 - accuracy: 0.8544 - val_loss: 0.6936 - val_accuracy: 0.7844\n",
      "Epoch 25/36\n",
      "1407/1407 [==============================] - 113s 80ms/step - loss: 0.4008 - accuracy: 0.8574 - val_loss: 0.7142 - val_accuracy: 0.7800\n",
      "Epoch 26/36\n",
      "1407/1407 [==============================] - 113s 80ms/step - loss: 0.3947 - accuracy: 0.8597 - val_loss: 0.7003 - val_accuracy: 0.7880\n",
      "Epoch 27/36\n",
      "1407/1407 [==============================] - 111s 79ms/step - loss: 0.3870 - accuracy: 0.8627 - val_loss: 0.7525 - val_accuracy: 0.7682\n",
      "Epoch 28/36\n",
      "1407/1407 [==============================] - 111s 79ms/step - loss: 0.3734 - accuracy: 0.8669 - val_loss: 0.7159 - val_accuracy: 0.7852\n",
      "Epoch 29/36\n",
      "1407/1407 [==============================] - 111s 79ms/step - loss: 0.3744 - accuracy: 0.8672 - val_loss: 0.7388 - val_accuracy: 0.7760\n",
      "Epoch 30/36\n",
      "1407/1407 [==============================] - 111s 79ms/step - loss: 0.3604 - accuracy: 0.8733 - val_loss: 0.7034 - val_accuracy: 0.7858\n",
      "Epoch 31/36\n",
      "1407/1407 [==============================] - 112s 79ms/step - loss: 0.3593 - accuracy: 0.8715 - val_loss: 0.7033 - val_accuracy: 0.7860\n",
      "Epoch 32/36\n",
      "1407/1407 [==============================] - 111s 79ms/step - loss: 0.3578 - accuracy: 0.8759 - val_loss: 0.7735 - val_accuracy: 0.7708\n",
      "Epoch 33/36\n",
      "1407/1407 [==============================] - 112s 80ms/step - loss: 0.3517 - accuracy: 0.8760 - val_loss: 0.7463 - val_accuracy: 0.7832\n",
      "Epoch 34/36\n",
      "1407/1407 [==============================] - 113s 80ms/step - loss: 0.3442 - accuracy: 0.8795 - val_loss: 0.7312 - val_accuracy: 0.7832\n",
      "Epoch 35/36\n",
      "1407/1407 [==============================] - 111s 79ms/step - loss: 0.3320 - accuracy: 0.8829 - val_loss: 0.7932 - val_accuracy: 0.7740\n",
      "Epoch 36/36\n",
      "1407/1407 [==============================] - 112s 79ms/step - loss: 0.3332 - accuracy: 0.8815 - val_loss: 0.7536 - val_accuracy: 0.7792\n",
      "313/313 [==============================] - 5s 16ms/step - loss: 331.4622 - accuracy: 0.4753\n"
     ]
    }
   ],
   "source": [
    "kernel_size = 2\n",
    "inp3 = Input(shape=(depth, height, width))\n",
    "conv3_1 = Convolution2D(conv_depth_1, (kernel_size, kernel_size), padding='same', activation='relu')(inp3)\n",
    "conv3_2 = Convolution2D(conv_depth_1, (kernel_size, kernel_size), padding='same', activation='relu')(conv3_1)\n",
    "pool3_1 = MaxPooling2D(pool_size=(pool_size, pool_size))(conv3_2)\n",
    "drop3_1 = Dropout(drop_prob_1)(pool3_1)\n",
    "\n",
    "conv3_3 = Convolution2D(conv_depth_2, (kernel_size, kernel_size), padding='same', activation='relu')(drop3_1)\n",
    "conv3_4 = Convolution2D(conv_depth_2, (kernel_size, kernel_size), padding='same', activation='relu')(conv3_3)\n",
    "pool3_2 = MaxPooling2D(pool_size=(pool_size, pool_size))(conv3_4)\n",
    "drop3_2 = Dropout(drop_prob_1)(pool3_2)\n",
    "\n",
    "flat3 = Flatten()(drop3_2)\n",
    "hidden3 = Dense(hidden_size, activation='relu')(flat3)\n",
    "drop3_3 = Dropout(drop_prob_2)(hidden3)\n",
    "out3 = Dense(num_classes, activation='softmax')(drop3_3)\n",
    "model3 = Model(inputs=inp3, outputs=out3)\n",
    "model3.compile(loss='categorical_crossentropy', optimizer='adam',metrics=['accuracy'])\n",
    "history3 = model3.fit(X_train, Y_train, batch_size=batch_size, epochs=num_epochs, verbose=1, validation_split=0.1)\n",
    "history3_1 = model3.evaluate(X_test, Y_test, verbose=1)"
   ]
  },
  {
   "cell_type": "markdown",
   "id": "af3865c6",
   "metadata": {},
   "source": [
    "Графики потерь для моделей с различными ядрами свёртки"
   ]
  },
  {
   "cell_type": "code",
   "execution_count": 7,
   "id": "218c3e4f",
   "metadata": {},
   "outputs": [
    {
     "data": {
      "image/png": "[encoded data removed]",
      "text/plain": [
       "<Figure size 432x288 with 1 Axes>"
      ]
     },
     "metadata": {
      "needs_background": "light"
     },
     "output_type": "display_data"
    }
   ],
   "source": [
    "plt.plot(history2.history['loss'], label = 'loss')\n",
    "plt.plot(history2.history['val_loss'], label = 'val_loss')\n",
    "plt.title('kernel size = 3, without dropout')\n",
    "plt.grid(True)\n",
    "plt.legend()\n",
    "plt.show()"
   ]
  },
  {
   "cell_type": "code",
   "execution_count": 6,
   "id": "125dd163",
   "metadata": {},
   "outputs": [
    {
     "data": {
      "image/png": "[encoded data removed]",
      "text/plain": [
       "<Figure size 432x288 with 1 Axes>"
      ]
     },
     "metadata": {
      "needs_background": "light"
     },
     "output_type": "display_data"
    }
   ],
   "source": [
    "plt.plot(history.history['loss'], label = 'loss')\n",
    "plt.plot(history.history['val_loss'], label = 'val_loss')\n",
    "plt.title('kernel size = 3')\n",
    "plt.grid(True)\n",
    "plt.legend()\n",
    "plt.show()"
   ]
  },
  {
   "cell_type": "code",
   "execution_count": 7,
   "id": "cc170d33",
   "metadata": {},
   "outputs": [
    {
     "data": {
      "image/png": "[encoded data removed]",
      "text/plain": [
       "<Figure size 432x288 with 1 Axes>"
      ]
     },
     "metadata": {
      "needs_background": "light"
     },
     "output_type": "display_data"
    }
   ],
   "source": [
    "plt.plot(history3.history['loss'], label = 'loss')\n",
    "plt.plot(history3.history['val_loss'], label = 'val_loss')\n",
    "plt.title('kernel size = 2')\n",
    "plt.grid(True)\n",
    "plt.legend()\n",
    "plt.show()"
   ]
  },
  {
   "cell_type": "code",
   "execution_count": 5,
   "id": "cb5b3e90",
   "metadata": {},
   "outputs": [
    {
     "data": {
      "image/png": "[encoded data removed]",
      "text/plain": [
       "<Figure size 432x288 with 1 Axes>"
      ]
     },
     "metadata": {
      "needs_background": "light"
     },
     "output_type": "display_data"
    }
   ],
   "source": [
    "plt.plot(history4.history['loss'], label = 'loss')\n",
    "plt.plot(history4.history['val_loss'], label = 'val_loss')\n",
    "plt.title('kernel size = 5')\n",
    "plt.grid(True)\n",
    "plt.legend()\n",
    "plt.show()"
   ]
  }
 ],
 "metadata": {
  "kernelspec": {
   "display_name": "Python 3 (ipykernel)",
   "language": "python",
   "name": "python3"
  },
  "language_info": {
   "codemirror_mode": {
    "name": "ipython",
    "version": 3
   },
   "file_extension": ".py",
   "mimetype": "text/x-python",
   "name": "python",
   "nbconvert_exporter": "python",
   "pygments_lexer": "ipython3",
   "version": "3.10.2"
  }
 },
 "nbformat": 4,
 "nbformat_minor": 5
}
