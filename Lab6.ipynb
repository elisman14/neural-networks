{
 "cells": [
  {
   "cell_type": "markdown",
   "id": "e16f5883",
   "metadata": {},
   "source": [
    "# БФИ2001 Фаттахов Тагир"
   ]
  },
  {
   "cell_type": "markdown",
   "id": "cd2aeaa7",
   "metadata": {},
   "source": [
    "## Лабораторная работа №6 (Прогноз успеха фильмов по обзорам)"
   ]
  },
  {
   "cell_type": "code",
   "execution_count": 1,
   "id": "16a72254",
   "metadata": {},
   "outputs": [],
   "source": [
    "import matplotlib\n",
    "import matplotlib.pyplot as plt\n",
    "import numpy as np\n",
    "from tensorflow.keras.utils import to_categorical\n",
    "from tensorflow.keras import models\n",
    "from tensorflow.keras import layers\n",
    "from keras.datasets import imdb\n",
    "from tensorflow.keras.models import Sequential"
   ]
  },
  {
   "cell_type": "markdown",
   "id": "9a55ac46",
   "metadata": {},
   "source": [
    "Загрузка данных imdb "
   ]
  },
  {
   "cell_type": "code",
   "execution_count": 2,
   "id": "254d2d36",
   "metadata": {},
   "outputs": [],
   "source": [
    "(training_data, training_targets), (testing_data,testing_targets) = imdb.load_data(num_words=10000)\n",
    "data = np.concatenate((training_data, testing_data), axis=0)\n",
    "targets = np.concatenate((training_targets, testing_targets),axis=0)"
   ]
  },
  {
   "cell_type": "markdown",
   "id": "d948d432",
   "metadata": {},
   "source": [
    "Информация о загруженном датасете "
   ]
  },
  {
   "cell_type": "code",
   "execution_count": 3,
   "id": "7891e9a3",
   "metadata": {},
   "outputs": [
    {
     "name": "stdout",
     "output_type": "stream",
     "text": [
      "Categories: [0 1]\n",
      "Number of unique words: 9998\n",
      "Average Review length: 234.75892\n",
      "Standard Deviation: 173\n"
     ]
    }
   ],
   "source": [
    "print(\"Categories:\", np.unique(targets))\n",
    "print(\"Number of unique words:\", len(np.unique(np.hstack(data))))\n",
    "length = [len(i) for i in data]\n",
    "print(\"Average Review length:\", np.mean(length))\n",
    "print(\"Standard Deviation:\", round(np.std(length)))"
   ]
  },
  {
   "cell_type": "markdown",
   "id": "2ba9eec1",
   "metadata": {},
   "source": [
    "Первый обзор"
   ]
  },
  {
   "cell_type": "code",
   "execution_count": 4,
   "id": "0fb40132",
   "metadata": {},
   "outputs": [
    {
     "name": "stdout",
     "output_type": "stream",
     "text": [
      "Label: 1\n",
      "[1, 14, 22, 16, 43, 530, 973, 1622, 1385, 65, 458, 4468, 66, 3941, 4, 173, 36, 256, 5, 25, 100, 43, 838, 112, 50, 670, 2, 9, 35, 480, 284, 5, 150, 4, 172, 112, 167, 2, 336, 385, 39, 4, 172, 4536, 1111, 17, 546, 38, 13, 447, 4, 192, 50, 16, 6, 147, 2025, 19, 14, 22, 4, 1920, 4613, 469, 4, 22, 71, 87, 12, 16, 43, 530, 38, 76, 15, 13, 1247, 4, 22, 17, 515, 17, 12, 16, 626, 18, 2, 5, 62, 386, 12, 8, 316, 8, 106, 5, 4, 2223, 5244, 16, 480, 66, 3785, 33, 4, 130, 12, 16, 38, 619, 5, 25, 124, 51, 36, 135, 48, 25, 1415, 33, 6, 22, 12, 215, 28, 77, 52, 5, 14, 407, 16, 82, 2, 8, 4, 107, 117, 5952, 15, 256, 4, 2, 7, 3766, 5, 723, 36, 71, 43, 530, 476, 26, 400, 317, 46, 7, 4, 2, 1029, 13, 104, 88, 4, 381, 15, 297, 98, 32, 2071, 56, 26, 141, 6, 194, 7486, 18, 4, 226, 22, 21, 134, 476, 26, 480, 5, 144, 30, 5535, 18, 51, 36, 28, 224, 92, 25, 104, 4, 226, 65, 16, 38, 1334, 88, 12, 16, 283, 5, 16, 4472, 113, 103, 32, 15, 16, 5345, 19, 178, 32]\n"
     ]
    }
   ],
   "source": [
    "print(\"Label:\", targets[0])\n",
    "print(data[0])"
   ]
  },
  {
   "cell_type": "markdown",
   "id": "5336c38a",
   "metadata": {},
   "source": [
    "Преобразование обзора в текст"
   ]
  },
  {
   "cell_type": "code",
   "execution_count": 5,
   "id": "f382b315",
   "metadata": {},
   "outputs": [
    {
     "name": "stdout",
     "output_type": "stream",
     "text": [
      "# this film was just brilliant casting location scenery story direction everyone's really suited the part they played and you could just imagine being there robert # is an amazing actor and now the same being director # father came from the same scottish island as myself so i loved the fact there was a real connection with this film the witty remarks throughout the film were great it was just brilliant so much that i bought the film as soon as it was released for # and would recommend it to everyone to watch and the fly fishing was amazing really cried at the end it was so sad and you know what they say if you cry at a film it must have been good and this definitely was also # to the two little boy's that played the # of norman and paul they were just brilliant children are often left out of the # list i think because the stars that play them all grown up are such a big profile for the whole film but these children are amazing and should be praised for what they have done don't you think the whole story was so lovely because it was true and was someone's life after all that was shared with us all\n"
     ]
    }
   ],
   "source": [
    "index = imdb.get_word_index()\n",
    "reverse_index = dict([(value, key) for (key, value) in index.items()])\n",
    "decoded = \" \".join( [reverse_index.get(i - 3, \"#\") for i in data[0]] )\n",
    "print(decoded)"
   ]
  },
  {
   "cell_type": "markdown",
   "id": "2843c85c",
   "metadata": {},
   "source": [
    "Функция векторизации данных "
   ]
  },
  {
   "cell_type": "code",
   "execution_count": 6,
   "id": "a8539575",
   "metadata": {},
   "outputs": [],
   "source": [
    "def vectorize(sequences, dimension = 10000):\n",
    "    results = np.zeros((len(sequences), dimension))\n",
    "    for i, sequence in enumerate(sequences):\n",
    "        results[i, sequence] = 1\n",
    "    return results\n",
    "\n",
    "data1 = vectorize(data)\n",
    "targets1 = np.array(targets).astype(\"float32\")"
   ]
  },
  {
   "cell_type": "markdown",
   "id": "ebfde92b",
   "metadata": {},
   "source": [
    "Разделение данных на тестовую и обучающую выборки в отношении (1:4)"
   ]
  },
  {
   "cell_type": "code",
   "execution_count": 7,
   "id": "21e9d302",
   "metadata": {},
   "outputs": [],
   "source": [
    "test_x = data1[:10000]\n",
    "test_y = targets1[:10000]\n",
    "train_x = data1[10000:]\n",
    "train_y = targets1[10000:]"
   ]
  },
  {
   "cell_type": "markdown",
   "id": "a209a18b",
   "metadata": {},
   "source": [
    "Функция создания модели ИНС"
   ]
  },
  {
   "cell_type": "code",
   "execution_count": 8,
   "id": "1f7c8520",
   "metadata": {},
   "outputs": [
    {
     "name": "stdout",
     "output_type": "stream",
     "text": [
      "Model: \"sequential\"\n",
      "_________________________________________________________________\n",
      " Layer (type)                Output Shape              Param #   \n",
      "=================================================================\n",
      " dense (Dense)               (None, 50)                500050    \n",
      "                                                                 \n",
      " dropout (Dropout)           (None, 50)                0         \n",
      "                                                                 \n",
      " dense_1 (Dense)             (None, 50)                2550      \n",
      "                                                                 \n",
      " dropout_1 (Dropout)         (None, 50)                0         \n",
      "                                                                 \n",
      " dense_2 (Dense)             (None, 50)                2550      \n",
      "                                                                 \n",
      " dense_3 (Dense)             (None, 1)                 51        \n",
      "                                                                 \n",
      "=================================================================\n",
      "Total params: 505,201\n",
      "Trainable params: 505,201\n",
      "Non-trainable params: 0\n",
      "_________________________________________________________________\n"
     ]
    }
   ],
   "source": [
    "def create_model(dim = 10000):\n",
    "    model = Sequential()\n",
    "    model.add(layers.Dense(50, activation = \"relu\", input_shape=(dim, )))\n",
    "    model.add(layers.Dropout(0.3, noise_shape=None, seed=None))\n",
    "    model.add(layers.Dense(50, activation = \"relu\"))\n",
    "    model.add(layers.Dropout(0.2, noise_shape=None, seed=None))\n",
    "    model.add(layers.Dense(50, activation = \"relu\"))\n",
    "    model.add(layers.Dense(1, activation = \"sigmoid\"))\n",
    "    return model;\n",
    "\n",
    "model = create_model()\n",
    "model.summary()"
   ]
  },
  {
   "cell_type": "markdown",
   "id": "13b2b4b0",
   "metadata": {},
   "source": [
    "Инициализация и обучение модели с вектором равным 10000, 2 эпохами и размером batch_size = 500"
   ]
  },
  {
   "cell_type": "code",
   "execution_count": 9,
   "id": "b0579c6c",
   "metadata": {},
   "outputs": [],
   "source": [
    "model.compile(optimizer = \"adam\", loss = \"binary_crossentropy\", metrics = [\"accuracy\"])"
   ]
  },
  {
   "cell_type": "code",
   "execution_count": 10,
   "id": "1fbf4aa9",
   "metadata": {},
   "outputs": [
    {
     "name": "stdout",
     "output_type": "stream",
     "text": [
      "Epoch 1/2\n",
      "80/80 [==============================] - 3s 30ms/step - loss: 0.4005 - accuracy: 0.8237 - val_loss: 0.2622 - val_accuracy: 0.8952\n",
      "Epoch 2/2\n",
      "80/80 [==============================] - 2s 24ms/step - loss: 0.2123 - accuracy: 0.9197 - val_loss: 0.2651 - val_accuracy: 0.8934\n"
     ]
    }
   ],
   "source": [
    "results = model.fit(train_x, train_y, epochs= 2, batch_size = 500, validation_data = (test_x, test_y))"
   ]
  },
  {
   "cell_type": "markdown",
   "id": "b1c04dd6",
   "metadata": {},
   "source": [
    "Инициализация и обучение модели с вектором равным 10000, 20 эпохами и размером batch_size = 500"
   ]
  },
  {
   "cell_type": "code",
   "execution_count": 11,
   "id": "0c7f79ea",
   "metadata": {},
   "outputs": [
    {
     "name": "stdout",
     "output_type": "stream",
     "text": [
      "Epoch 1/20\n",
      "80/80 [==============================] - 3s 29ms/step - loss: 0.4032 - accuracy: 0.8214 - val_loss: 0.2626 - val_accuracy: 0.8943\n",
      "Epoch 2/20\n",
      "80/80 [==============================] - 2s 25ms/step - loss: 0.2175 - accuracy: 0.9171 - val_loss: 0.2598 - val_accuracy: 0.8942\n",
      "Epoch 3/20\n",
      "80/80 [==============================] - 2s 22ms/step - loss: 0.1553 - accuracy: 0.9441 - val_loss: 0.2933 - val_accuracy: 0.8888\n",
      "Epoch 4/20\n",
      "80/80 [==============================] - 2s 22ms/step - loss: 0.1075 - accuracy: 0.9632 - val_loss: 0.3476 - val_accuracy: 0.8838\n",
      "Epoch 5/20\n",
      "80/80 [==============================] - 2s 22ms/step - loss: 0.0692 - accuracy: 0.9773 - val_loss: 0.4303 - val_accuracy: 0.8848\n",
      "Epoch 6/20\n",
      "80/80 [==============================] - 2s 24ms/step - loss: 0.0511 - accuracy: 0.9834 - val_loss: 0.4678 - val_accuracy: 0.8802\n",
      "Epoch 7/20\n",
      "80/80 [==============================] - 2s 24ms/step - loss: 0.0378 - accuracy: 0.9869 - val_loss: 0.4992 - val_accuracy: 0.8783\n",
      "Epoch 8/20\n",
      "80/80 [==============================] - 2s 23ms/step - loss: 0.0326 - accuracy: 0.9888 - val_loss: 0.5792 - val_accuracy: 0.8816\n",
      "Epoch 9/20\n",
      "80/80 [==============================] - 2s 26ms/step - loss: 0.0273 - accuracy: 0.9903 - val_loss: 0.5864 - val_accuracy: 0.8791\n",
      "Epoch 10/20\n",
      "80/80 [==============================] - 2s 25ms/step - loss: 0.0267 - accuracy: 0.9902 - val_loss: 0.6253 - val_accuracy: 0.8774\n",
      "Epoch 11/20\n",
      "80/80 [==============================] - 2s 22ms/step - loss: 0.0263 - accuracy: 0.9905 - val_loss: 0.6210 - val_accuracy: 0.8778\n",
      "Epoch 12/20\n",
      "80/80 [==============================] - 2s 24ms/step - loss: 0.0266 - accuracy: 0.9906 - val_loss: 0.6264 - val_accuracy: 0.8787\n",
      "Epoch 13/20\n",
      "80/80 [==============================] - 2s 23ms/step - loss: 0.0240 - accuracy: 0.9908 - val_loss: 0.6780 - val_accuracy: 0.8795\n",
      "Epoch 14/20\n",
      "80/80 [==============================] - 2s 23ms/step - loss: 0.0213 - accuracy: 0.9924 - val_loss: 0.6147 - val_accuracy: 0.8776\n",
      "Epoch 15/20\n",
      "80/80 [==============================] - 2s 23ms/step - loss: 0.0202 - accuracy: 0.9926 - val_loss: 0.6490 - val_accuracy: 0.8781\n",
      "Epoch 16/20\n",
      "80/80 [==============================] - 2s 23ms/step - loss: 0.0175 - accuracy: 0.9938 - val_loss: 0.7295 - val_accuracy: 0.8799\n",
      "Epoch 17/20\n",
      "80/80 [==============================] - 2s 22ms/step - loss: 0.0205 - accuracy: 0.9920 - val_loss: 0.6830 - val_accuracy: 0.8782\n",
      "Epoch 18/20\n",
      "80/80 [==============================] - 2s 24ms/step - loss: 0.0196 - accuracy: 0.9925 - val_loss: 0.6800 - val_accuracy: 0.8790\n",
      "Epoch 19/20\n",
      "80/80 [==============================] - 2s 27ms/step - loss: 0.0191 - accuracy: 0.9929 - val_loss: 0.6938 - val_accuracy: 0.8806\n",
      "Epoch 20/20\n",
      "80/80 [==============================] - 2s 23ms/step - loss: 0.0211 - accuracy: 0.9926 - val_loss: 0.6718 - val_accuracy: 0.8805\n"
     ]
    }
   ],
   "source": [
    "model1 = create_model()\n",
    "model1.compile(optimizer = \"adam\", loss = \"binary_crossentropy\", metrics = [\"accuracy\"])\n",
    "results1 = model1.fit(train_x, train_y, epochs= 20, batch_size = 500, validation_data = (test_x, test_y))"
   ]
  },
  {
   "cell_type": "markdown",
   "id": "961a7cf6",
   "metadata": {},
   "source": [
    "Инициализация и обучение модели с вектором равным 12000, 2 эпохами и размером batch_size = 500"
   ]
  },
  {
   "cell_type": "code",
   "execution_count": 12,
   "id": "e70a0807",
   "metadata": {},
   "outputs": [
    {
     "name": "stdout",
     "output_type": "stream",
     "text": [
      "Epoch 1/2\n",
      "80/80 [==============================] - 6s 58ms/step - loss: 0.4063 - accuracy: 0.8197 - val_loss: 0.2649 - val_accuracy: 0.8938\n",
      "Epoch 2/2\n",
      "80/80 [==============================] - 2s 29ms/step - loss: 0.2115 - accuracy: 0.9193 - val_loss: 0.2674 - val_accuracy: 0.8957\n"
     ]
    }
   ],
   "source": [
    "data1 = vectorize(data, 12000)\n",
    "targets1 = np.array(targets).astype(\"float32\")\n",
    "test_x1 = data1[:10000]\n",
    "test_y1 = targets1[:10000]\n",
    "train_x1 = data1[10000:]\n",
    "train_y1 = targets1[10000:]\n",
    "\n",
    "model2 = create_model(12000)\n",
    "model2.compile(optimizer = \"adam\", loss = \"binary_crossentropy\", metrics = [\"accuracy\"])\n",
    "results2 = model2.fit(train_x1, train_y1, epochs= 2, batch_size = 500, validation_data = (test_x1, test_y1))"
   ]
  },
  {
   "cell_type": "markdown",
   "id": "93073b1e",
   "metadata": {},
   "source": [
    "Инициализация и обучение модели с вектором равным 12000, 5 эпохами и размером batch_size = 100"
   ]
  },
  {
   "cell_type": "code",
   "execution_count": 13,
   "id": "1b3c2cff",
   "metadata": {},
   "outputs": [
    {
     "name": "stdout",
     "output_type": "stream",
     "text": [
      "Epoch 1/5\n",
      "400/400 [==============================] - 7s 15ms/step - loss: 0.3273 - accuracy: 0.8618 - val_loss: 0.2614 - val_accuracy: 0.8938\n",
      "Epoch 2/5\n",
      "400/400 [==============================] - 6s 14ms/step - loss: 0.1986 - accuracy: 0.9243 - val_loss: 0.2749 - val_accuracy: 0.8910\n",
      "Epoch 3/5\n",
      "400/400 [==============================] - 6s 14ms/step - loss: 0.1385 - accuracy: 0.9487 - val_loss: 0.3131 - val_accuracy: 0.8882\n",
      "Epoch 4/5\n",
      "400/400 [==============================] - 6s 14ms/step - loss: 0.1017 - accuracy: 0.9631 - val_loss: 0.3643 - val_accuracy: 0.8844\n",
      "Epoch 5/5\n",
      "400/400 [==============================] - 6s 14ms/step - loss: 0.0776 - accuracy: 0.9715 - val_loss: 0.4316 - val_accuracy: 0.8782\n"
     ]
    }
   ],
   "source": [
    "model3 = create_model(12000)\n",
    "model3.compile(optimizer = \"adam\", loss = \"binary_crossentropy\", metrics = [\"accuracy\"])\n",
    "results3 = model3.fit(train_x1, train_y1, epochs= 5, batch_size = 100, validation_data = (test_x1, test_y1))"
   ]
  },
  {
   "cell_type": "markdown",
   "id": "58b0a036",
   "metadata": {},
   "source": [
    "Инициализация и обучение модели с вектором равным 20000, 2 эпохами и размером batch_size = 500"
   ]
  },
  {
   "cell_type": "code",
   "execution_count": 51,
   "id": "52b42547",
   "metadata": {},
   "outputs": [
    {
     "name": "stdout",
     "output_type": "stream",
     "text": [
      "Epoch 1/2\n",
      "80/80 [==============================] - 7s 74ms/step - loss: 0.4228 - accuracy: 0.8029 - val_loss: 0.2648 - val_accuracy: 0.8926\n",
      "Epoch 2/2\n",
      "80/80 [==============================] - 3s 42ms/step - loss: 0.2146 - accuracy: 0.9191 - val_loss: 0.2613 - val_accuracy: 0.8955\n"
     ]
    }
   ],
   "source": [
    "data2 = vectorize(data, 20000)\n",
    "targets2 = np.array(targets).astype(\"float32\")\n",
    "test_x2 = data2[:10000]\n",
    "test_y2 = targets2[:10000]\n",
    "train_x2 = data2[10000:]\n",
    "train_y2 = targets2[10000:]\n",
    "\n",
    "model4 = create_model(20000)\n",
    "model4.compile(optimizer = \"adam\", loss = \"binary_crossentropy\", metrics = [\"accuracy\"])\n",
    "results4 = model4.fit(train_x2, train_y2, epochs= 2, batch_size = 500, validation_data = (test_x2, test_y2))"
   ]
  },
  {
   "cell_type": "markdown",
   "id": "5b2e8052",
   "metadata": {},
   "source": [
    "Функция по преобразованию текста в список значений"
   ]
  },
  {
   "cell_type": "code",
   "execution_count": 55,
   "id": "e33599a0",
   "metadata": {},
   "outputs": [],
   "source": [
    "def text_set(text: str, dim = 10000):\n",
    "    index = imdb.get_word_index()\n",
    "    text = text.replace(',', '')\n",
    "    text = text.replace('.', '')\n",
    "    arr_text = text.lower().split()\n",
    "    index_text = [index.get(word, -4) + 3 for word in arr_text]\n",
    "    result = np.zeros((1,dim))\n",
    "    for i in index_text:\n",
    "        if(i <= dim):\n",
    "            result[0,i] = 1\n",
    "    return result"
   ]
  },
  {
   "cell_type": "markdown",
   "id": "79df7a84",
   "metadata": {},
   "source": [
    "2 пользовательских обзора на фильм"
   ]
  },
  {
   "cell_type": "code",
   "execution_count": 45,
   "id": "fbc5501a",
   "metadata": {},
   "outputs": [],
   "source": [
    "negative = \"\"\"\n",
    "Either. something, broke or deteriorated in me\n",
    "or the eternal evil cynic Tarantino got tired \n",
    "and also lost his already shaky affection for\n",
    "humanity And a large amount of positive criticism\n",
    "looks like inertia respect for the master and \n",
    "the search for meaning where there is none\n",
    "In all absolutely all of Tarantino's films \n",
    "there was something that justified cruelty \n",
    "there were charming heroes who despite everything\n",
    "were pitied they forced to empathize It was a daring story \n",
    "In the film there is none of the above \n",
    "it's three hours of tedious chatter against the background \n",
    "of very beautiful American landscapes and some kind of boundless cruelty\n",
    "which for obvious reasons cannot be taken seriously \n",
    "but it's generally unclear how it relates\n",
    "All the wonderful actors involved in the film seem to be puppets\n",
    "and obey the will of the mad director The only casting decision\n",
    "that surprised me was Channing Tatum in this rather familiar company \n",
    "His output although episodic is memorable\n",
    "In general I was thinking hard after the film \n",
    "for which Tarantino films are loved To be honest \n",
    "I stopped understanding And all \n",
    "these games of symbols that cause the audience's delight \n",
    "about eights seem very superficial\n",
    "\"\"\"\n",
    "\n",
    "positive = \"\"\"\n",
    "As for me, this film is a film not only about\n",
    "disgusting characters in the style of a\n",
    "western, but also about demonstrating real directorial art.\n",
    "The film is conversational, shot indoors, in 1-2 locations, \n",
    "built on dialogues and narration. And as always, \n",
    "the dialogues in this movie are just fantastic. \n",
    "Just imagine 'Pumping music is playing, crackling \n",
    "fire in the fireplace, a blizzard is blowing outside \n",
    "the window, a western, the main characters are sipping \n",
    "hot coffee and something is about to happen. And all \n",
    "this takes place in a small single wooden house \n",
    "in the middle of a whole wasteland \n",
    "This is where the action of the film unfolds. I've always\n",
    "wondered how Tarantino can convey the whole \n",
    "essence of the characters to the smallest detail \n",
    "with conversations and at the same time attract \n",
    "the viewer. The music is chosen just perfectly, \n",
    "an absolutely deserved Golden Globe. And for \n",
    "so many unpredictable and fascinating scenarios, \n",
    "you can safely award an Oscar. I can't ignore \n",
    "Jennifer's simply magnificent game, which was \n",
    "simply gorgeous in this movie!\n",
    "The Abominable Eight is a film in which the authors \n",
    "have turned out everything: music, script, acting, \n",
    "dialogues, camerawork, the mesmerizing winter atmosphere \n",
    "of a western. And accusing Tarantino of filming the \n",
    "same thing is like accusing a person of speaking his native language.\n",
    "\"\"\""
   ]
  },
  {
   "cell_type": "markdown",
   "id": "4720c313",
   "metadata": {},
   "source": [
    "Функция распознования настроения текста"
   ]
  },
  {
   "cell_type": "code",
   "execution_count": 58,
   "id": "81274380",
   "metadata": {},
   "outputs": [
    {
     "name": "stdout",
     "output_type": "stream",
     "text": [
      "1/1 [==============================] - 0s 16ms/step\n",
      "film1: negative\n",
      "1/1 [==============================] - 0s 16ms/step\n",
      "film2: positive\n"
     ]
    }
   ],
   "source": [
    "def predict_class(text):\n",
    "    arr = model.predict(text)\n",
    "    if(arr[0,0] > 0.50):\n",
    "        return \"positive\"\n",
    "    else:\n",
    "        return \"negative\"\n",
    "\n",
    "b = text_set(negative)\n",
    "print(\"film1:\", predict_class(b))\n",
    "\n",
    "b = text_set(positive)\n",
    "print(\"film2:\", predict_class(b))"
   ]
  }
 ],
 "metadata": {
  "kernelspec": {
   "display_name": "Python 3 (ipykernel)",
   "language": "python",
   "name": "python3"
  },
  "language_info": {
   "codemirror_mode": {
    "name": "ipython",
    "version": 3
   },
   "file_extension": ".py",
   "mimetype": "text/x-python",
   "name": "python",
   "nbconvert_exporter": "python",
   "pygments_lexer": "ipython3",
   "version": "3.10.2"
  }
 },
 "nbformat": 4,
 "nbformat_minor": 5
}
